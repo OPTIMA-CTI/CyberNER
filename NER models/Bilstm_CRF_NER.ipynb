{
 "cells": [
  {
   "cell_type": "code",
   "execution_count": null,
   "metadata": {
    "colab": {
     "base_uri": "https://localhost:8080/"
    },
    "executionInfo": {
     "elapsed": 5588,
     "status": "ok",
     "timestamp": 1695376776588,
     "user": {
      "displayName": "Aravind P C",
      "userId": "14537714054658235030"
     },
     "user_tz": -330
    },
    "id": "E7V4Irw-UUYR",
    "outputId": "e5247e06-79d0-42f7-ef79-4fd925dd79f3"
   },
   "outputs": [],
   "source": [
    "import numpy as np\n",
    "import pandas as pd\n",
    "import tensorflow as tf\n",
    "print('Tensorflow version: ', tf.__version__)"
   ]
  },
  {
   "cell_type": "code",
   "execution_count": null,
   "metadata": {
    "colab": {
     "base_uri": "https://localhost:8080/"
    },
    "executionInfo": {
     "elapsed": 18628,
     "status": "ok",
     "timestamp": 1695376795212,
     "user": {
      "displayName": "Aravind P C",
      "userId": "14537714054658235030"
     },
     "user_tz": -330
    },
    "id": "c_edbIXuVLsn",
    "outputId": "4fe62661-f65e-4b79-a3ae-1a93a7a9d57a"
   },
   "outputs": [],
   "source": [
    "from google.colab import drive\n",
    "drive.mount('/content/drive')"
   ]
  },
  {
   "cell_type": "code",
   "execution_count": null,
   "metadata": {
    "colab": {
     "base_uri": "https://localhost:8080/",
     "height": 423
    },
    "executionInfo": {
     "elapsed": 2539,
     "status": "ok",
     "timestamp": 1695376797749,
     "user": {
      "displayName": "Aravind P C",
      "userId": "14537714054658235030"
     },
     "user_tz": -330
    },
    "id": "g4iVYkiqUXuA",
    "outputId": "20a6536c-71ca-4c36-c152-db076484a0c7"
   },
   "outputs": [],
   "source": [
    "df = pd.read_csv(\"NER dataset.csv\", encoding='utf-8')\n",
    "df = df.fillna(method='ffill')\n",
    "df.head(-5)"
   ]
  },
  {
   "cell_type": "code",
   "execution_count": null,
   "metadata": {
    "colab": {
     "base_uri": "https://localhost:8080/"
    },
    "executionInfo": {
     "elapsed": 8,
     "status": "ok",
     "timestamp": 1695376797749,
     "user": {
      "displayName": "Aravind P C",
      "userId": "14537714054658235030"
     },
     "user_tz": -330
    },
    "id": "0xRaYxQpsVNv",
    "outputId": "7270f1c2-41c3-4ad9-e405-32e6e941d326"
   },
   "outputs": [],
   "source": [
    "df['Sentence Id'].nunique(), df.Word.nunique(), df.Tag.nunique()"
   ]
  },
  {
   "cell_type": "code",
   "execution_count": null,
   "metadata": {
    "colab": {
     "base_uri": "https://localhost:8080/",
     "height": 833
    },
    "executionInfo": {
     "elapsed": 628,
     "status": "ok",
     "timestamp": 1695376798372,
     "user": {
      "displayName": "Aravind P C",
      "userId": "14537714054658235030"
     },
     "user_tz": -330
    },
    "id": "9alNhDfEsYpI",
    "outputId": "dd0af57e-a091-47e2-b34c-1f62d5f71967"
   },
   "outputs": [],
   "source": [
    "df.groupby('Tag').size().reset_index(name='counts')"
   ]
  },
  {
   "cell_type": "code",
   "execution_count": null,
   "metadata": {
    "colab": {
     "base_uri": "https://localhost:8080/",
     "height": 74
    },
    "executionInfo": {
     "elapsed": 815,
     "status": "ok",
     "timestamp": 1695376819135,
     "user": {
      "displayName": "Aravind P C",
      "userId": "14537714054658235030"
     },
     "user_tz": -330
    },
    "id": "gPUwWqO6MOEi",
    "outputId": "5078cd04-92b0-4ee2-bc51-95bb300e1a78"
   },
   "outputs": [],
   "source": [
    "from sklearn import preprocessing\n",
    "le = preprocessing.LabelEncoder()\n",
    "le.fit(df['Tag'])"
   ]
  },
  {
   "cell_type": "code",
   "execution_count": null,
   "metadata": {
    "executionInfo": {
     "elapsed": 579,
     "status": "ok",
     "timestamp": 1695376819710,
     "user": {
      "displayName": "Aravind P C",
      "userId": "14537714054658235030"
     },
     "user_tz": -330
    },
    "id": "dB6PMXq_MWZt"
   },
   "outputs": [],
   "source": [
    "df['Enc_tag'] = le.transform(df['Tag'])"
   ]
  },
  {
   "cell_type": "code",
   "execution_count": null,
   "metadata": {
    "executionInfo": {
     "elapsed": 3,
     "status": "ok",
     "timestamp": 1695376819710,
     "user": {
      "displayName": "Aravind P C",
      "userId": "14537714054658235030"
     },
     "user_tz": -330
    },
    "id": "c3_AUf8uKeDS"
   },
   "outputs": [],
   "source": [
    "class SentenceGetter(object):\n",
    "    def __init__(self, df):\n",
    "        self.n_sent = 1\n",
    "        self.df = df\n",
    "        agg_func = lambda s: [w for w in s['Word'].values.tolist()]\n",
    "        self.grouped = self.df.groupby('Sentence Id').apply(agg_func)\n",
    "        self.sentences = [s for s in self.grouped]"
   ]
  },
  {
   "cell_type": "code",
   "execution_count": null,
   "metadata": {
    "executionInfo": {
     "elapsed": 523,
     "status": "ok",
     "timestamp": 1695376821631,
     "user": {
      "displayName": "Aravind P C",
      "userId": "14537714054658235030"
     },
     "user_tz": -330
    },
    "id": "xLHfy7uZKnRD"
   },
   "outputs": [],
   "source": [
    "getter = SentenceGetter(df)\n",
    "sentences = getter.sentences"
   ]
  },
  {
   "cell_type": "code",
   "execution_count": null,
   "metadata": {
    "executionInfo": {
     "elapsed": 2,
     "status": "ok",
     "timestamp": 1695376822419,
     "user": {
      "displayName": "Aravind P C",
      "userId": "14537714054658235030"
     },
     "user_tz": -330
    },
    "id": "xghkaT9LsGV2"
   },
   "outputs": [],
   "source": [
    "class POSGetter(object):\n",
    "    def __init__(self, df):\n",
    "        self.n_sent = 1\n",
    "        self.df = df\n",
    "        agg_func = lambda s: [w for w in s['POS'].values.tolist()]\n",
    "        self.grouped = self.df.groupby('Sentence Id').apply(agg_func)\n",
    "        self.sentences = [s for s in self.grouped]"
   ]
  },
  {
   "cell_type": "code",
   "execution_count": null,
   "metadata": {
    "executionInfo": {
     "elapsed": 2,
     "status": "ok",
     "timestamp": 1695376823516,
     "user": {
      "displayName": "Aravind P C",
      "userId": "14537714054658235030"
     },
     "user_tz": -330
    },
    "id": "R1WFBiizsG7b"
   },
   "outputs": [],
   "source": [
    "getter = POSGetter(df)\n",
    "POS_ = getter.sentences"
   ]
  },
  {
   "cell_type": "code",
   "execution_count": null,
   "metadata": {
    "executionInfo": {
     "elapsed": 2,
     "status": "ok",
     "timestamp": 1695376823516,
     "user": {
      "displayName": "Aravind P C",
      "userId": "14537714054658235030"
     },
     "user_tz": -330
    },
    "id": "Fc-yBU-vKzLj"
   },
   "outputs": [],
   "source": [
    "class TagGetter(object):\n",
    "    def __init__(self, df):\n",
    "        self.n_sent = 1\n",
    "        self.df = df\n",
    "        agg_func = lambda s: [w for w in s['Enc_tag'].values.tolist()]\n",
    "        self.grouped = self.df.groupby('Sentence Id').apply(agg_func)\n",
    "        self.sentences = [s for s in self.grouped]"
   ]
  },
  {
   "cell_type": "code",
   "execution_count": null,
   "metadata": {
    "executionInfo": {
     "elapsed": 3,
     "status": "ok",
     "timestamp": 1695376824571,
     "user": {
      "displayName": "Aravind P C",
      "userId": "14537714054658235030"
     },
     "user_tz": -330
    },
    "id": "bPUzOodpK42d"
   },
   "outputs": [],
   "source": [
    "getter = TagGetter(df)\n",
    "Tags= getter.sentences"
   ]
  },
  {
   "cell_type": "code",
   "execution_count": null,
   "metadata": {
    "executionInfo": {
     "elapsed": 2,
     "status": "ok",
     "timestamp": 1695376825162,
     "user": {
      "displayName": "Aravind P C",
      "userId": "14537714054658235030"
     },
     "user_tz": -330
    },
    "id": "Tr3xZiq_M1Lw"
   },
   "outputs": [],
   "source": [
    "data = {'Sentence Id' : df['Sentence Id'].unique(),'Word': sentences,'POS': POS_ ,'Tag': Tags }\n",
    "df1 = pd.DataFrame(data = data)"
   ]
  },
  {
   "cell_type": "code",
   "execution_count": null,
   "metadata": {
    "executionInfo": {
     "elapsed": 596,
     "status": "ok",
     "timestamp": 1695376827621,
     "user": {
      "displayName": "Aravind P C",
      "userId": "14537714054658235030"
     },
     "user_tz": -330
    },
    "id": "wX86poTi2-ov"
   },
   "outputs": [],
   "source": [
    "from sklearn.model_selection import train_test_split\n",
    "\n",
    "training_dataset, testing_dataset = train_test_split(df1, test_size=0.2, random_state=2018)"
   ]
  },
  {
   "cell_type": "markdown",
   "metadata": {
    "id": "mPjWzIM5RLG_"
   },
   "source": [
    "# Conditional Random Fields classifier\n"
   ]
  },
  {
   "cell_type": "code",
   "execution_count": null,
   "metadata": {
    "colab": {
     "base_uri": "https://localhost:8080/"
    },
    "executionInfo": {
     "elapsed": 18454,
     "status": "ok",
     "timestamp": 1695376846074,
     "user": {
      "displayName": "Aravind P C",
      "userId": "14537714054658235030"
     },
     "user_tz": -330
    },
    "id": "hpUpLgldROP2",
    "outputId": "c57b0605-01db-430c-a8c4-b7750e95005f"
   },
   "outputs": [],
   "source": [
    "!pip install -q tensorflow-addons  # version >= 0.15.0 is required\n",
    "!pip install -q tensorflow\n",
    "!pip install -q datasets"
   ]
  },
  {
   "cell_type": "code",
   "execution_count": null,
   "metadata": {
    "executionInfo": {
     "elapsed": 1044,
     "status": "ok",
     "timestamp": 1695376847108,
     "user": {
      "displayName": "Aravind P C",
      "userId": "14537714054658235030"
     },
     "user_tz": -330
    },
    "id": "lVlMaJdDCwf6"
   },
   "outputs": [],
   "source": [
    "import pandas as pd\n",
    "from datasets import Dataset\n",
    "\n",
    "def dataframe_to_conll(df):\n",
    "    conll_lines = []\n",
    "    for i, row in df.iterrows():\n",
    "        word = row['Word']\n",
    "        pos = row['POS']\n",
    "        ner = row['Tag']\n",
    "        conll_lines.append(f\"{word}{pos}{ner}\")\n",
    "\n",
    "    conll_dataset = '\\n'.join(conll_lines)\n",
    "    return conll_dataset\n",
    "\n",
    "conll_dataset = dataframe_to_conll(training_dataset)\n",
    "dataset = Dataset.from_pandas(training_dataset)"
   ]
  },
  {
   "cell_type": "code",
   "execution_count": null,
   "metadata": {
    "colab": {
     "base_uri": "https://localhost:8080/"
    },
    "executionInfo": {
     "elapsed": 883,
     "status": "ok",
     "timestamp": 1695376847988,
     "user": {
      "displayName": "Aravind P C",
      "userId": "14537714054658235030"
     },
     "user_tz": -330
    },
    "id": "BSor_ghTRx83",
    "outputId": "196afc3b-a91a-45fa-9d84-f4ea4d4915f9"
   },
   "outputs": [],
   "source": [
    "import copy\n",
    "import tensorflow_addons as tfa"
   ]
  },
  {
   "cell_type": "markdown",
   "metadata": {
    "id": "yiRQdcVNvngI"
   },
   "source": [
    "The dataset also give the information about the mapping of NER tags and ids."
   ]
  },
  {
   "cell_type": "code",
   "execution_count": null,
   "metadata": {
    "colab": {
     "base_uri": "https://localhost:8080/"
    },
    "executionInfo": {
     "elapsed": 12,
     "status": "ok",
     "timestamp": 1695376847989,
     "user": {
      "displayName": "Aravind P C",
      "userId": "14537714054658235030"
     },
     "user_tz": -330
    },
    "id": "RugRp-kywNge",
    "outputId": "fe056da4-95db-459d-cab7-0d7f9e672cc9"
   },
   "outputs": [],
   "source": [
    "raw_tags = df.Tag.unique().tolist()\n",
    "print(raw_tags)"
   ]
  },
  {
   "cell_type": "markdown",
   "metadata": {
    "id": "uBR_sqqAw4fA"
   },
   "source": [
    "Add a special tag `<PAD>` to the tag set which is used to represent a padding in the sequence. In NLP, 0 is usually used to mark padding."
   ]
  },
  {
   "cell_type": "code",
   "execution_count": null,
   "metadata": {
    "colab": {
     "base_uri": "https://localhost:8080/"
    },
    "executionInfo": {
     "elapsed": 9,
     "status": "ok",
     "timestamp": 1695376847989,
     "user": {
      "displayName": "Aravind P C",
      "userId": "14537714054658235030"
     },
     "user_tz": -330
    },
    "id": "-NChlWMnUTol",
    "outputId": "68aac2a4-5e26-4311-b3c1-9147a38bb9fe"
   },
   "outputs": [],
   "source": [
    "tags = ['<PAD>'] + raw_tags\n",
    "print(tags)"
   ]
  },
  {
   "cell_type": "code",
   "execution_count": null,
   "metadata": {
    "colab": {
     "base_uri": "https://localhost:8080/",
     "height": 74
    },
    "executionInfo": {
     "elapsed": 8,
     "status": "ok",
     "timestamp": 1695376847989,
     "user": {
      "displayName": "Aravind P C",
      "userId": "14537714054658235030"
     },
     "user_tz": -330
    },
    "id": "s1EiHujjvj4z",
    "outputId": "8ef1c9a6-4882-4792-cb53-7b685c53623d"
   },
   "outputs": [],
   "source": [
    "from sklearn import preprocessing\n",
    "le2 = preprocessing.LabelEncoder()\n",
    "le2.fit(tags)"
   ]
  },
  {
   "cell_type": "markdown",
   "metadata": {
    "id": "d45nlEDXWqG6"
   },
   "source": [
    "Define some constants which will be used in later."
   ]
  },
  {
   "cell_type": "code",
   "execution_count": null,
   "metadata": {
    "executionInfo": {
     "elapsed": 8,
     "status": "ok",
     "timestamp": 1695376847990,
     "user": {
      "displayName": "Aravind P C",
      "userId": "14537714054658235030"
     },
     "user_tz": -330
    },
    "id": "9A2UNwDnaPkX"
   },
   "outputs": [],
   "source": [
    "TAG_SIZE = len(tags)\n",
    "VOCAB_SIZE = 20000"
   ]
  },
  {
   "cell_type": "markdown",
   "metadata": {
    "id": "P8XXrsg1Wvvb"
   },
   "source": [
    "Building vocabulary lookup layer for tokens."
   ]
  },
  {
   "cell_type": "code",
   "execution_count": null,
   "metadata": {
    "colab": {
     "base_uri": "https://localhost:8080/"
    },
    "executionInfo": {
     "elapsed": 17952,
     "status": "ok",
     "timestamp": 1695376865934,
     "user": {
      "displayName": "Aravind P C",
      "userId": "14537714054658235030"
     },
     "user_tz": -330
    },
    "id": "l3WJsqUBxpFX",
    "outputId": "e9a642bf-e0bf-4ba9-9606-69e2deb7f005"
   },
   "outputs": [],
   "source": [
    "train_tokens = tf.ragged.constant(dataset['Word'])\n",
    "train_tokens = tf.map_fn(tf.strings.lower, train_tokens)\n",
    "\n",
    "lookup_layer = tf.keras.layers.StringLookup(max_tokens=VOCAB_SIZE, mask_token=\"[MASK]\", oov_token=\"[UNK]\")\n",
    "lookup_layer.adapt(train_tokens)\n",
    "\n",
    "print(len(lookup_layer.get_vocabulary()))\n",
    "print(lookup_layer.get_vocabulary()[:10])"
   ]
  },
  {
   "cell_type": "markdown",
   "metadata": {
    "id": "lanszT8uXA6y"
   },
   "source": [
    "Creating raw (without preprocess) train and validation dataset."
   ]
  },
  {
   "cell_type": "code",
   "execution_count": null,
   "metadata": {
    "executionInfo": {
     "elapsed": 3,
     "status": "ok",
     "timestamp": 1695376865934,
     "user": {
      "displayName": "Aravind P C",
      "userId": "14537714054658235030"
     },
     "user_tz": -330
    },
    "id": "jP33r5d74SX8"
   },
   "outputs": [],
   "source": [
    "def create_data_generator(dataset):\n",
    "  def data_generator():\n",
    "    for item in dataset:\n",
    "      yield item['Word'], item['Tag']\n",
    "\n",
    "  return data_generator\n",
    "\n",
    "data_signature= (\n",
    "        tf.TensorSpec(shape=(None,), dtype=tf.string),\n",
    "        tf.TensorSpec(shape=(None, ), dtype=tf.int32)\n",
    ")\n",
    "\n",
    "train_data = tf.data.Dataset.from_generator(\n",
    "    create_data_generator(dataset),\n",
    "    output_signature=data_signature\n",
    ")"
   ]
  },
  {
   "cell_type": "code",
   "execution_count": null,
   "metadata": {
    "executionInfo": {
     "elapsed": 2,
     "status": "ok",
     "timestamp": 1695376865934,
     "user": {
      "displayName": "Aravind P C",
      "userId": "14537714054658235030"
     },
     "user_tz": -330
    },
    "id": "0DsY5sdh4pdC"
   },
   "outputs": [],
   "source": [
    "def dataset_preprocess(tokens, tag_ids):\n",
    "    preprocessed_tokens = preprecess_tokens(tokens)\n",
    "\n",
    "    # increase by 1 for all tag_ids,\n",
    "    # because `<PAD>` is added as the first element in tags list\n",
    "    preprocessed_tag_ids = tag_ids + 1\n",
    "\n",
    "    return preprocessed_tokens, preprocessed_tag_ids\n",
    "\n",
    "def preprecess_tokens(tokens):\n",
    "    tokens = tf.strings.lower(tokens)\n",
    "    return lookup_layer(tokens)\n",
    "\n",
    "BATCH_SIZE = 64\n",
    "\n",
    "# With `padded_batch(), each batch may have different length\n",
    "# shape: (batch_size, None)\n",
    "train_dataset = (\n",
    "    train_data.map(dataset_preprocess)\n",
    "    .padded_batch(batch_size=BATCH_SIZE).cache()\n",
    ")"
   ]
  },
  {
   "cell_type": "code",
   "execution_count": null,
   "metadata": {
    "executionInfo": {
     "elapsed": 9065,
     "status": "ok",
     "timestamp": 1695376874997,
     "user": {
      "displayName": "Aravind P C",
      "userId": "14537714054658235030"
     },
     "user_tz": -330
    },
    "id": "d3Tdnd0f4tCD"
   },
   "outputs": [],
   "source": [
    "# Build the model\n",
    "def build_embedding_bilstm_crf_model(\n",
    "    vocab_size: int, embed_dims: int, lstm_unit: int, tag_size: int\n",
    ") -> tf.keras.Model:\n",
    "    x = tf.keras.layers.Input(shape=(None,), dtype=tf.int32, name=\"x\")\n",
    "    y = tf.keras.layers.Embedding(vocab_size, embed_dims, mask_zero=True)(x)\n",
    "    y = tf.keras.layers.Bidirectional(\n",
    "        tf.keras.layers.LSTM(lstm_unit, return_sequences=True)\n",
    "    )(y)\n",
    "    decode_sequence, potentials, sequence_length, kernel = tfa.layers.CRF(tag_size)(y)\n",
    "\n",
    "    return tf.keras.Model(\n",
    "        inputs=x, outputs=[decode_sequence, potentials, sequence_length, kernel]\n",
    "    )\n",
    "\n",
    "\n",
    "model = build_embedding_bilstm_crf_model(VOCAB_SIZE, 32, 128, TAG_SIZE)"
   ]
  },
  {
   "cell_type": "markdown",
   "metadata": {
    "id": "uabQmjMtRtzs"
   },
   "source": [
    "### Define CRF loss function"
   ]
  },
  {
   "cell_type": "markdown",
   "metadata": {
    "id": "f54910109035"
   },
   "source": [
    "By using the real y and some internal variables of the CRF layer. You can compute the log likelihood of real y. Use the negative of log likelihood as the loss to optimize."
   ]
  },
  {
   "cell_type": "code",
   "execution_count": null,
   "metadata": {
    "executionInfo": {
     "elapsed": 5,
     "status": "ok",
     "timestamp": 1695376874997,
     "user": {
      "displayName": "Aravind P C",
      "userId": "14537714054658235030"
     },
     "user_tz": -330
    },
    "id": "3b38225d9464"
   },
   "outputs": [],
   "source": [
    "@tf.function\n",
    "def crf_loss_func(potentials, sequence_length, kernel, y):\n",
    "    crf_likelihood, _ = tfa.text.crf_log_likelihood(\n",
    "        potentials, y, sequence_length, kernel\n",
    "    )\n",
    "    flat_crf_loss = -1 * crf_likelihood\n",
    "    crf_loss = tf.reduce_mean(flat_crf_loss)\n",
    "\n",
    "    return crf_loss"
   ]
  },
  {
   "cell_type": "markdown",
   "metadata": {
    "id": "5fb535bfc09d"
   },
   "source": [
    "### Define optimizer, metrics and train_step fucntion"
   ]
  },
  {
   "cell_type": "code",
   "execution_count": null,
   "metadata": {
    "executionInfo": {
     "elapsed": 5,
     "status": "ok",
     "timestamp": 1695376874997,
     "user": {
      "displayName": "Aravind P C",
      "userId": "14537714054658235030"
     },
     "user_tz": -330
    },
    "id": "U82B_tH2d294"
   },
   "outputs": [],
   "source": [
    "optimizer = tf.keras.optimizers.Adam(0.02)\n",
    "\n",
    "train_loss = tf.keras.metrics.Mean(name=\"train_loss\")\n",
    "\n",
    "@tf.function(experimental_relax_shapes=True)\n",
    "def train_step(x, y):\n",
    "    with tf.GradientTape() as tape:\n",
    "        decoded_sequence, potentials, sequence_length, kernel = model(x)\n",
    "        crf_loss = crf_loss_func(potentials, sequence_length, kernel, y)\n",
    "        loss = crf_loss + tf.reduce_sum(model.losses)\n",
    "    grads = tape.gradient(loss, model.trainable_variables)\n",
    "    optimizer.apply_gradients(zip(grads, model.trainable_variables))\n",
    "\n",
    "    train_loss(loss)"
   ]
  },
  {
   "cell_type": "markdown",
   "metadata": {
    "id": "70ecdcdf800d"
   },
   "source": [
    "### Training model"
   ]
  },
  {
   "cell_type": "code",
   "execution_count": null,
   "metadata": {
    "colab": {
     "base_uri": "https://localhost:8080/"
    },
    "executionInfo": {
     "elapsed": 2394107,
     "status": "ok",
     "timestamp": 1695379269100,
     "user": {
      "displayName": "Aravind P C",
      "userId": "14537714054658235030"
     },
     "user_tz": -330
    },
    "id": "04b19e455b07",
    "outputId": "a59abf79-229d-482a-c309-97623b281fa4"
   },
   "outputs": [],
   "source": [
    "EPOCHS = 40\n",
    "\n",
    "for epoch in range(EPOCHS):\n",
    "    # Reset the metrics at the start of the next epoch\n",
    "    train_loss.reset_states()\n",
    "\n",
    "    for x, y in train_dataset:\n",
    "        train_step(x, y)\n",
    "\n",
    "    print(f\"Epoch {epoch + 1}, \" f\"Loss: {train_loss.result()}\")\n"
   ]
  },
  {
   "cell_type": "markdown",
   "metadata": {
    "id": "c80d7afb8d0e"
   },
   "source": [
    "### Making inference"
   ]
  },
  {
   "cell_type": "code",
   "execution_count": null,
   "metadata": {
    "colab": {
     "base_uri": "https://localhost:8080/"
    },
    "executionInfo": {
     "elapsed": 2712,
     "status": "ok",
     "timestamp": 1695379271793,
     "user": {
      "displayName": "Aravind P C",
      "userId": "14537714054658235030"
     },
     "user_tz": -330
    },
    "id": "w945CWos8Er2",
    "outputId": "05bc6077-afeb-491c-8085-ef6625f32708"
   },
   "outputs": [],
   "source": [
    "# print the inputs and expected outputs\n",
    "test_text = testing_dataset['Word'].iloc[15]\n",
    "print(\"raw inputs: \", test_text)\n",
    "\n",
    "# preprocess\n",
    "preprocessed_inputs = preprecess_tokens(\n",
    "    test_text\n",
    ")\n",
    "# expend the batch dim\n",
    "inputs = tf.reshape(preprocessed_inputs, shape=[1, -1])\n",
    "\n",
    "outputs, *_ = model.predict(inputs)\n",
    "prediction = list(le2.inverse_transform(outputs[0]))\n",
    "ground_true_tags = list(le.inverse_transform(testing_dataset['Tag'].iloc[15]))\n",
    "\n",
    "print(\"ground true tags: \", ground_true_tags)\n",
    "print(\"predicted tags: \", prediction)"
   ]
  },
  {
   "cell_type": "code",
   "execution_count": null,
   "metadata": {
    "colab": {
     "base_uri": "https://localhost:8080/"
    },
    "executionInfo": {
     "elapsed": 126473,
     "status": "ok",
     "timestamp": 1695379398261,
     "user": {
      "displayName": "Aravind P C",
      "userId": "14537714054658235030"
     },
     "user_tz": -330
    },
    "id": "FeZKA7A4-uI_",
    "outputId": "509226ab-b5cb-4fb0-bb93-5a9905ade6bb"
   },
   "outputs": [],
   "source": [
    "y_true = []\n",
    "y_pred = []\n",
    "for i in range(len(testing_dataset)):\n",
    "    # preprocess\n",
    "    preprocessed_inputs = preprecess_tokens(\n",
    "        testing_dataset['Word'].iloc[i]\n",
    "    )\n",
    "    # expend the batch dim\n",
    "    inputs = tf.reshape(preprocessed_inputs, shape=[1, -1])\n",
    "\n",
    "    outputs, *_ = model.predict(inputs)\n",
    "    prediction = le2.inverse_transform(outputs[0])\n",
    "    ground_true_tags = le.inverse_transform(testing_dataset['Tag'].iloc[i])\n",
    "    prediction = list(le.transform(prediction))\n",
    "    ground_true_tags = list(le.transform(ground_true_tags))\n",
    "    y_true.extend(ground_true_tags)\n",
    "    y_pred.extend(prediction)"
   ]
  },
  {
   "cell_type": "code",
   "execution_count": null,
   "metadata": {
    "executionInfo": {
     "elapsed": 29,
     "status": "ok",
     "timestamp": 1695379398261,
     "user": {
      "displayName": "Aravind P C",
      "userId": "14537714054658235030"
     },
     "user_tz": -330
    },
    "id": "Sb-iJVfPA-Hv"
   },
   "outputs": [],
   "source": [
    "myset = set(y_true).union(set(y_pred))\n",
    "lst = list(myset)\n",
    "labels = list(le.inverse_transform(lst))"
   ]
  },
  {
   "cell_type": "code",
   "execution_count": null,
   "metadata": {
    "executionInfo": {
     "elapsed": 4,
     "status": "ok",
     "timestamp": 1695379398262,
     "user": {
      "displayName": "Aravind P C",
      "userId": "14537714054658235030"
     },
     "user_tz": -330
    },
    "id": "82rCYOFSwmKA"
   },
   "outputs": [],
   "source": [
    "y_true = le.inverse_transform(y_true)\n",
    "y_pred = le.inverse_transform(y_pred)"
   ]
  },
  {
   "cell_type": "code",
   "execution_count": null,
   "metadata": {
    "colab": {
     "base_uri": "https://localhost:8080/"
    },
    "executionInfo": {
     "elapsed": 638,
     "status": "ok",
     "timestamp": 1695379399655,
     "user": {
      "displayName": "Aravind P C",
      "userId": "14537714054658235030"
     },
     "user_tz": -330
    },
    "id": "OhlX3GsYASqB",
    "outputId": "6d9e37bd-8d3d-42c0-efbc-9bf8ef123641"
   },
   "outputs": [],
   "source": [
    "from sklearn.metrics import classification_report\n",
    "print(classification_report(y_true, y_pred))"
   ]
  },
  {
   "cell_type": "code",
   "execution_count": null,
   "metadata": {
    "executionInfo": {
     "elapsed": 3,
     "status": "ok",
     "timestamp": 1695379399656,
     "user": {
      "displayName": "Aravind P C",
      "userId": "14537714054658235030"
     },
     "user_tz": -330
    },
    "id": "5i_Daqe_h9Op"
   },
   "outputs": [],
   "source": [
    "p = []\n",
    "t = []\n",
    "for i in y_pred:\n",
    "  if i == 'O':\n",
    "    p.append(i)\n",
    "  else:\n",
    "    p.append(i[2:])\n",
    "\n",
    "for i in y_true:\n",
    "  if i == 'O':\n",
    "    t.append(i)\n",
    "  else:\n",
    "    t.append(i[2:])"
   ]
  },
  {
   "cell_type": "code",
   "execution_count": null,
   "metadata": {
    "colab": {
     "base_uri": "https://localhost:8080/"
    },
    "executionInfo": {
     "elapsed": 366,
     "status": "ok",
     "timestamp": 1695379400019,
     "user": {
      "displayName": "Aravind P C",
      "userId": "14537714054658235030"
     },
     "user_tz": -330
    },
    "id": "LmCsQ8hviENf",
    "outputId": "9218bf94-bc5f-4e6b-82f6-a722192f7b5c"
   },
   "outputs": [],
   "source": [
    "from sklearn.metrics import classification_report\n",
    "print(classification_report(t, p))"
   ]
  },
  {
   "cell_type": "code",
   "execution_count": null,
   "metadata": {
    "colab": {
     "base_uri": "https://localhost:8080/"
    },
    "executionInfo": {
     "elapsed": 876,
     "status": "ok",
     "timestamp": 1695379400892,
     "user": {
      "displayName": "Aravind P C",
      "userId": "14537714054658235030"
     },
     "user_tz": -330
    },
    "id": "oq3KAmgJW0Qv",
    "outputId": "61860a7e-fc2c-4bac-9152-0843fe1a5062"
   },
   "outputs": [],
   "source": [
    "report = classification_report(t, p, digits=4, output_dict=True)\n",
    "# Access the weighted F1 score, recall, and precision\n",
    "f1_weighted = report['weighted avg']['f1-score']\n",
    "\n",
    "recall_weighted = report['weighted avg']['recall']\n",
    "precision_weighted = report['weighted avg']['precision']\n",
    "\n",
    "# Print the results\n",
    "\n",
    "print ('Weighted F1 Score: ', f1_weighted)\n",
    "print ('Weighted Recall: ', recall_weighted)\n",
    "print ('Weighted Precision: ', precision_weighted)"
   ]
  },
  {
   "cell_type": "code",
   "execution_count": null,
   "metadata": {
    "colab": {
     "base_uri": "https://localhost:8080/"
    },
    "executionInfo": {
     "elapsed": 372,
     "status": "ok",
     "timestamp": 1695379401261,
     "user": {
      "displayName": "Aravind P C",
      "userId": "14537714054658235030"
     },
     "user_tz": -330
    },
    "id": "S62j1zFYXNjg",
    "outputId": "76ff69be-6cfc-4764-d105-057251cea3b0"
   },
   "outputs": [],
   "source": [
    "report = classification_report(t, p, digits=4, output_dict=True)\n",
    "# Access the weighted F1 score, recall, and precision\n",
    "f1_weighted = report['macro avg']['f1-score']\n",
    "\n",
    "recall_weighted = report['macro avg']['recall']\n",
    "precision_weighted = report['macro avg']['precision']\n",
    "\n",
    "# Print the results\n",
    "\n",
    "print ('Macro F1 Score: ', f1_weighted)\n",
    "print ('Macro Recall: ', recall_weighted)\n",
    "print ('Macro Precision: ', precision_weighted)"
   ]
  },
  {
   "cell_type": "markdown",
   "metadata": {
    "id": "DsLHBELr5Xit"
   },
   "source": [
    "# Case Study"
   ]
  },
  {
   "cell_type": "code",
   "execution_count": null,
   "metadata": {
    "colab": {
     "base_uri": "https://localhost:8080/"
    },
    "executionInfo": {
     "elapsed": 1290,
     "status": "ok",
     "timestamp": 1695379402548,
     "user": {
      "displayName": "Aravind P C",
      "userId": "14537714054658235030"
     },
     "user_tz": -330
    },
    "id": "PRlWcvmC9DSv",
    "outputId": "c154d668-1ee7-4783-a924-7fb8aca8ffc2"
   },
   "outputs": [],
   "source": [
    "import nltk\n",
    "nltk.download('punkt')\n",
    "nltk.download('stopwords')\n",
    "nltk.download('averaged_perceptron_tagger')\n",
    "from nltk.corpus import stopwords\n",
    "from nltk.tokenize import word_tokenize, sent_tokenize\n",
    "stop_words = set(stopwords.words('english'))\n",
    "\n",
    "from nltk.tokenize import word_tokenize, sent_tokenize"
   ]
  },
  {
   "cell_type": "code",
   "execution_count": null,
   "metadata": {
    "executionInfo": {
     "elapsed": 7,
     "status": "ok",
     "timestamp": 1695379402549,
     "user": {
      "displayName": "Aravind P C",
      "userId": "14537714054658235030"
     },
     "user_tz": -330
    },
    "id": "n5ZZC4Rr5l3b"
   },
   "outputs": [],
   "source": [
    "test_text = \"\"\"\n",
    "Although the initial vector of compromise is unclear, the details of the next stage imply the use of spear phishing or similar methods.\n",
    " \"\"\""
   ]
  },
  {
   "cell_type": "code",
   "execution_count": null,
   "metadata": {
    "colab": {
     "base_uri": "https://localhost:8080/"
    },
    "executionInfo": {
     "elapsed": 858,
     "status": "ok",
     "timestamp": 1695379403401,
     "user": {
      "displayName": "Aravind P C",
      "userId": "14537714054658235030"
     },
     "user_tz": -330
    },
    "id": "DxZDwv7d5WLP",
    "outputId": "f570be87-b369-4c1a-8272-14a0ec4ade27"
   },
   "outputs": [],
   "source": [
    "Case = word_tokenize(test_text)\n",
    "\n",
    "preprocessed_inputs = preprecess_tokens(\n",
    "    Case\n",
    ")\n",
    "\n",
    "inputs = tf.reshape(preprocessed_inputs, shape=[1, -1])\n",
    "\n",
    "outputs, *_ = model.predict(inputs)\n",
    "prediction = list(le2.inverse_transform(outputs[0]))\n",
    "\n",
    "for token, label in zip(Case, prediction):\n",
    "    print(\"{:20}\\t{}\".format(token, label))"
   ]
  }
 ],
 "metadata": {
  "accelerator": "GPU",
  "colab": {
   "provenance": []
  },
  "gpuClass": "standard",
  "kernelspec": {
   "display_name": "Python 3 (ipykernel)",
   "language": "python",
   "name": "python3"
  },
  "language_info": {
   "codemirror_mode": {
    "name": "ipython",
    "version": 3
   },
   "file_extension": ".py",
   "mimetype": "text/x-python",
   "name": "python",
   "nbconvert_exporter": "python",
   "pygments_lexer": "ipython3",
   "version": "3.10.7"
  }
 },
 "nbformat": 4,
 "nbformat_minor": 1
}
