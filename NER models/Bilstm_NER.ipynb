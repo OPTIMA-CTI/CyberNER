{
 "cells": [
  {
   "cell_type": "code",
   "execution_count": null,
   "metadata": {
    "colab": {
     "base_uri": "https://localhost:8080/"
    },
    "executionInfo": {
     "elapsed": 3397,
     "status": "ok",
     "timestamp": 1695375639559,
     "user": {
      "displayName": "Aravind P C",
      "userId": "14537714054658235030"
     },
     "user_tz": -330
    },
    "id": "E7V4Irw-UUYR",
    "outputId": "1155393c-ea15-4d18-9546-91d1d146b5e4"
   },
   "outputs": [],
   "source": [
    "import numpy as np\n",
    "import pandas as pd\n",
    "import tensorflow as tf\n",
    "print('Tensorflow version: ', tf.__version__)"
   ]
  },
  {
   "cell_type": "code",
   "execution_count": null,
   "metadata": {
    "colab": {
     "base_uri": "https://localhost:8080/"
    },
    "executionInfo": {
     "elapsed": 3339,
     "status": "ok",
     "timestamp": 1695375762617,
     "user": {
      "displayName": "Aravind P C",
      "userId": "14537714054658235030"
     },
     "user_tz": -330
    },
    "id": "siJQl4DNm-LZ",
    "outputId": "3ac5429b-4251-46a1-90af-5893be913a80"
   },
   "outputs": [],
   "source": [
    "from google.colab import drive\n",
    "drive.mount('/content/drive')"
   ]
  },
  {
   "cell_type": "code",
   "execution_count": null,
   "metadata": {
    "colab": {
     "base_uri": "https://localhost:8080/",
     "height": 676
    },
    "executionInfo": {
     "elapsed": 1392,
     "status": "ok",
     "timestamp": 1695375765188,
     "user": {
      "displayName": "Aravind P C",
      "userId": "14537714054658235030"
     },
     "user_tz": -330
    },
    "id": "g4iVYkiqUXuA",
    "outputId": "11cb1756-1519-4c3a-9253-347592e29bea"
   },
   "outputs": [],
   "source": [
    "df = pd.read_csv(r\"/content/drive/MyDrive/Mini ProjectRisk Msc DS/Main Project/NER/Dataset/NER dataset.csv\", encoding='utf-8')\n",
    "df = df.fillna(method='ffill')\n",
    "df.head(20)"
   ]
  },
  {
   "cell_type": "code",
   "execution_count": null,
   "metadata": {
    "colab": {
     "base_uri": "https://localhost:8080/",
     "height": 833
    },
    "executionInfo": {
     "elapsed": 441,
     "status": "ok",
     "timestamp": 1695376599678,
     "user": {
      "displayName": "Aravind P C",
      "userId": "14537714054658235030"
     },
     "user_tz": -330
    },
    "id": "J_5msK6HUdFS",
    "outputId": "dcf4ea1d-1498-4c13-b8e9-baeef110a144"
   },
   "outputs": [],
   "source": [
    "df.groupby('Tag').size().reset_index(name='counts')"
   ]
  },
  {
   "cell_type": "code",
   "execution_count": null,
   "metadata": {
    "colab": {
     "base_uri": "https://localhost:8080/"
    },
    "executionInfo": {
     "elapsed": 498,
     "status": "ok",
     "timestamp": 1695375769976,
     "user": {
      "displayName": "Aravind P C",
      "userId": "14537714054658235030"
     },
     "user_tz": -330
    },
    "id": "ESH5e4BoVwbf",
    "outputId": "d90076ca-5416-44b2-9c82-33b411b4ac54"
   },
   "outputs": [],
   "source": [
    "print('Unique words in corpus: ', df['Word'].nunique())\n",
    "print('Unique tags in corpus: ', df['Tag'].nunique())"
   ]
  },
  {
   "cell_type": "code",
   "execution_count": null,
   "metadata": {
    "colab": {
     "base_uri": "https://localhost:8080/",
     "height": 74
    },
    "executionInfo": {
     "elapsed": 1067,
     "status": "ok",
     "timestamp": 1695375771455,
     "user": {
      "displayName": "Aravind P C",
      "userId": "14537714054658235030"
     },
     "user_tz": -330
    },
    "id": "I0Un7WPoVySE",
    "outputId": "b13969e1-75e2-483b-cbad-82ede299c114"
   },
   "outputs": [],
   "source": [
    "from sklearn import preprocessing\n",
    "le = preprocessing.LabelEncoder()\n",
    "le.fit(df['Tag'])\n",
    "df['Enc_tag'] = le.transform(df['Tag'])"
   ]
  },
  {
   "cell_type": "markdown",
   "metadata": {
    "id": "RXLcTvLqWIaF"
   },
   "source": [
    "##  Retrieve sentences and corresponding tags\n"
   ]
  },
  {
   "cell_type": "code",
   "execution_count": null,
   "metadata": {
    "executionInfo": {
     "elapsed": 2,
     "status": "ok",
     "timestamp": 1695375773939,
     "user": {
      "displayName": "Aravind P C",
      "userId": "14537714054658235030"
     },
     "user_tz": -330
    },
    "id": "c3_AUf8uKeDS"
   },
   "outputs": [],
   "source": [
    "class SentenceGetter(object):\n",
    "    def __init__(self, df):\n",
    "        self.n_sent = 1\n",
    "        self.df = df\n",
    "        agg_func = lambda s: [w for w in s['Word'].values.tolist()]\n",
    "        self.grouped = self.df.groupby('Sentence Id').apply(agg_func)\n",
    "        self.sentences = [s for s in self.grouped]"
   ]
  },
  {
   "cell_type": "code",
   "execution_count": null,
   "metadata": {
    "executionInfo": {
     "elapsed": 501,
     "status": "ok",
     "timestamp": 1695375774843,
     "user": {
      "displayName": "Aravind P C",
      "userId": "14537714054658235030"
     },
     "user_tz": -330
    },
    "id": "xLHfy7uZKnRD"
   },
   "outputs": [],
   "source": [
    "getter = SentenceGetter(df)\n",
    "sentences = getter.sentences"
   ]
  },
  {
   "cell_type": "code",
   "execution_count": null,
   "metadata": {
    "executionInfo": {
     "elapsed": 3,
     "status": "ok",
     "timestamp": 1695375775241,
     "user": {
      "displayName": "Aravind P C",
      "userId": "14537714054658235030"
     },
     "user_tz": -330
    },
    "id": "xghkaT9LsGV2"
   },
   "outputs": [],
   "source": [
    "class POSGetter(object):\n",
    "    def __init__(self, df):\n",
    "        self.n_sent = 1\n",
    "        self.df = df\n",
    "        agg_func = lambda s: [w for w in s['POS'].values.tolist()]\n",
    "        self.grouped = self.df.groupby('Sentence Id').apply(agg_func)\n",
    "        self.sentences = [s for s in self.grouped]"
   ]
  },
  {
   "cell_type": "code",
   "execution_count": null,
   "metadata": {
    "executionInfo": {
     "elapsed": 3,
     "status": "ok",
     "timestamp": 1695375776485,
     "user": {
      "displayName": "Aravind P C",
      "userId": "14537714054658235030"
     },
     "user_tz": -330
    },
    "id": "R1WFBiizsG7b"
   },
   "outputs": [],
   "source": [
    "getter = POSGetter(df)\n",
    "POS_ = getter.sentences"
   ]
  },
  {
   "cell_type": "code",
   "execution_count": null,
   "metadata": {
    "executionInfo": {
     "elapsed": 3,
     "status": "ok",
     "timestamp": 1695375776899,
     "user": {
      "displayName": "Aravind P C",
      "userId": "14537714054658235030"
     },
     "user_tz": -330
    },
    "id": "Fc-yBU-vKzLj"
   },
   "outputs": [],
   "source": [
    "class TagGetter(object):\n",
    "    def __init__(self, df):\n",
    "        self.n_sent = 1\n",
    "        self.df = df\n",
    "        agg_func = lambda s: [w for w in s['Enc_tag'].values.tolist()]\n",
    "        self.grouped = self.df.groupby('Sentence Id').apply(agg_func)\n",
    "        self.sentences = [s for s in self.grouped]"
   ]
  },
  {
   "cell_type": "code",
   "execution_count": null,
   "metadata": {
    "executionInfo": {
     "elapsed": 6,
     "status": "ok",
     "timestamp": 1695375778138,
     "user": {
      "displayName": "Aravind P C",
      "userId": "14537714054658235030"
     },
     "user_tz": -330
    },
    "id": "bPUzOodpK42d"
   },
   "outputs": [],
   "source": [
    "getter = TagGetter(df)\n",
    "Tags= getter.sentences"
   ]
  },
  {
   "cell_type": "code",
   "execution_count": null,
   "metadata": {
    "executionInfo": {
     "elapsed": 2,
     "status": "ok",
     "timestamp": 1695375778541,
     "user": {
      "displayName": "Aravind P C",
      "userId": "14537714054658235030"
     },
     "user_tz": -330
    },
    "id": "Tr3xZiq_M1Lw"
   },
   "outputs": [],
   "source": [
    "data = {'Sentence Id' : df['Sentence Id'].unique(),'Word': sentences,'POS': POS_ ,'Tag': Tags }\n",
    "df1 = pd.DataFrame(data = data)"
   ]
  },
  {
   "cell_type": "code",
   "execution_count": null,
   "metadata": {
    "executionInfo": {
     "elapsed": 2,
     "status": "ok",
     "timestamp": 1695375780142,
     "user": {
      "displayName": "Aravind P C",
      "userId": "14537714054658235030"
     },
     "user_tz": -330
    },
    "id": "wX86poTi2-ov"
   },
   "outputs": [],
   "source": [
    "from sklearn.model_selection import train_test_split\n",
    "\n",
    "training_dataset, testing_dataset = train_test_split(df1, test_size=0.2, random_state=2018)"
   ]
  },
  {
   "cell_type": "code",
   "execution_count": null,
   "metadata": {
    "colab": {
     "base_uri": "https://localhost:8080/"
    },
    "executionInfo": {
     "elapsed": 6834,
     "status": "ok",
     "timestamp": 1695375787407,
     "user": {
      "displayName": "Aravind P C",
      "userId": "14537714054658235030"
     },
     "user_tz": -330
    },
    "id": "7KcXvTjGPGze",
    "outputId": "cf39bb70-e70a-460a-c6c7-16fb4c1eead8"
   },
   "outputs": [],
   "source": [
    "!pip install -q datasets"
   ]
  },
  {
   "cell_type": "code",
   "execution_count": null,
   "metadata": {
    "executionInfo": {
     "elapsed": 1273,
     "status": "ok",
     "timestamp": 1695375788677,
     "user": {
      "displayName": "Aravind P C",
      "userId": "14537714054658235030"
     },
     "user_tz": -330
    },
    "id": "x5we1Rk8PCjt"
   },
   "outputs": [],
   "source": [
    "import pandas as pd\n",
    "from datasets import Dataset\n",
    "\n",
    "def dataframe_to_conll(df):\n",
    "    conll_lines = []\n",
    "    for i, row in df.iterrows():\n",
    "        word = row['Word']\n",
    "        #pos = row['POS']\n",
    "        ner = row['Tag']\n",
    "        conll_lines.append(f\"{word}{ner}\")\n",
    "\n",
    "    conll_dataset = '\\n'.join(conll_lines)\n",
    "    return conll_dataset\n",
    "\n",
    "conll_dataset = dataframe_to_conll(training_dataset)\n",
    "dataset = Dataset.from_pandas(training_dataset)"
   ]
  },
  {
   "cell_type": "code",
   "execution_count": null,
   "metadata": {
    "colab": {
     "base_uri": "https://localhost:8080/"
    },
    "executionInfo": {
     "elapsed": 9,
     "status": "ok",
     "timestamp": 1695375788678,
     "user": {
      "displayName": "Aravind P C",
      "userId": "14537714054658235030"
     },
     "user_tz": -330
    },
    "id": "Zq4kG3BmPVBT",
    "outputId": "fde329ef-f972-401f-c0b4-721c2fc344db"
   },
   "outputs": [],
   "source": [
    "raw_tags = df.Tag.unique().tolist()\n",
    "print(raw_tags)"
   ]
  },
  {
   "cell_type": "markdown",
   "metadata": {
    "id": "NIxkDdxqW0BI"
   },
   "source": [
    "## Padding input sentences and creating train/test split"
   ]
  },
  {
   "cell_type": "code",
   "execution_count": null,
   "metadata": {
    "colab": {
     "base_uri": "https://localhost:8080/"
    },
    "executionInfo": {
     "elapsed": 9,
     "status": "ok",
     "timestamp": 1695375788678,
     "user": {
      "displayName": "Aravind P C",
      "userId": "14537714054658235030"
     },
     "user_tz": -330
    },
    "id": "NhzMTxKYPZCP",
    "outputId": "d2498b5d-3b8e-44e7-cbd0-3a007c3c7937"
   },
   "outputs": [],
   "source": [
    "tags = ['<PAD>'] + raw_tags\n",
    "print(tags)"
   ]
  },
  {
   "cell_type": "code",
   "execution_count": null,
   "metadata": {
    "colab": {
     "base_uri": "https://localhost:8080/",
     "height": 74
    },
    "executionInfo": {
     "elapsed": 7,
     "status": "ok",
     "timestamp": 1695375788678,
     "user": {
      "displayName": "Aravind P C",
      "userId": "14537714054658235030"
     },
     "user_tz": -330
    },
    "id": "3Xnfl3DrPbop",
    "outputId": "c5c16bf6-fbfa-4e8a-add2-39e08300a67a"
   },
   "outputs": [],
   "source": [
    "from sklearn import preprocessing\n",
    "le2 = preprocessing.LabelEncoder()\n",
    "le2.fit(tags)"
   ]
  },
  {
   "cell_type": "code",
   "execution_count": null,
   "metadata": {
    "executionInfo": {
     "elapsed": 6,
     "status": "ok",
     "timestamp": 1695375788678,
     "user": {
      "displayName": "Aravind P C",
      "userId": "14537714054658235030"
     },
     "user_tz": -330
    },
    "id": "y5RcwcgwPeG0"
   },
   "outputs": [],
   "source": [
    "TAG_SIZE = len(tags)\n",
    "VOCAB_SIZE = 20000"
   ]
  },
  {
   "cell_type": "code",
   "execution_count": null,
   "metadata": {
    "executionInfo": {
     "elapsed": 6,
     "status": "ok",
     "timestamp": 1695375788679,
     "user": {
      "displayName": "Aravind P C",
      "userId": "14537714054658235030"
     },
     "user_tz": -330
    },
    "id": "xbwubPoDXKhP"
   },
   "outputs": [],
   "source": [
    "import matplotlib.pyplot as plt\n",
    "import copy\n",
    "\n",
    "import numpy as np\n",
    "import tensorflow as tf"
   ]
  },
  {
   "cell_type": "code",
   "execution_count": null,
   "metadata": {
    "colab": {
     "base_uri": "https://localhost:8080/"
    },
    "executionInfo": {
     "elapsed": 19904,
     "status": "ok",
     "timestamp": 1695375808577,
     "user": {
      "displayName": "Aravind P C",
      "userId": "14537714054658235030"
     },
     "user_tz": -330
    },
    "id": "_Lyz5tmDXRc7",
    "outputId": "8b781edf-c0b1-476c-b6c8-2e52bf95ea13"
   },
   "outputs": [],
   "source": [
    "train_tokens = tf.ragged.constant(dataset['Word'])\n",
    "train_tokens = tf.map_fn(tf.strings.lower, train_tokens)\n",
    "\n",
    "lookup_layer = tf.keras.layers.StringLookup(max_tokens=VOCAB_SIZE, mask_token=\"[MASK]\", oov_token=\"[UNK]\")\n",
    "lookup_layer.adapt(train_tokens)\n",
    "\n",
    "print(len(lookup_layer.get_vocabulary()))\n",
    "print(lookup_layer.get_vocabulary()[:10])"
   ]
  },
  {
   "cell_type": "code",
   "execution_count": null,
   "metadata": {
    "executionInfo": {
     "elapsed": 5,
     "status": "ok",
     "timestamp": 1695375808578,
     "user": {
      "displayName": "Aravind P C",
      "userId": "14537714054658235030"
     },
     "user_tz": -330
    },
    "id": "Nw-UEP3cXeVc"
   },
   "outputs": [],
   "source": [
    "def create_data_generator(dataset):\n",
    "  def data_generator():\n",
    "    for item in dataset:\n",
    "      yield item['Word'], item['Tag']\n",
    "\n",
    "  return data_generator\n",
    "\n",
    "data_signature= (\n",
    "        tf.TensorSpec(shape=(None,), dtype=tf.string),\n",
    "        tf.TensorSpec(shape=(None, ), dtype=tf.int32)\n",
    ")\n",
    "\n",
    "train_data = tf.data.Dataset.from_generator(\n",
    "    create_data_generator(dataset),\n",
    "    output_signature=data_signature\n",
    ")"
   ]
  },
  {
   "cell_type": "code",
   "execution_count": null,
   "metadata": {
    "executionInfo": {
     "elapsed": 781,
     "status": "ok",
     "timestamp": 1695375809355,
     "user": {
      "displayName": "Aravind P C",
      "userId": "14537714054658235030"
     },
     "user_tz": -330
    },
    "id": "Spkb-79EPwys"
   },
   "outputs": [],
   "source": [
    "def dataset_preprocess(tokens, tag_ids):\n",
    "    preprocessed_tokens = preprecess_tokens(tokens)\n",
    "\n",
    "    # increase by 1 for all tag_ids,\n",
    "    # because `<PAD>` is added as the first element in tags list\n",
    "    preprocessed_tag_ids = tag_ids + 1\n",
    "\n",
    "    return preprocessed_tokens, preprocessed_tag_ids\n",
    "\n",
    "def preprecess_tokens(tokens):\n",
    "    tokens = tf.strings.lower(tokens)\n",
    "    return lookup_layer(tokens)\n",
    "\n",
    "BATCH_SIZE = 128\n",
    "\n",
    "train_dataset = (\n",
    "    train_data.map(dataset_preprocess)\n",
    "    .padded_batch(batch_size=BATCH_SIZE).cache()\n",
    ")"
   ]
  },
  {
   "cell_type": "markdown",
   "metadata": {
    "id": "LDxNaWRlXkXf"
   },
   "source": [
    "## Build and compile a Bidirectional LSTM model\n"
   ]
  },
  {
   "cell_type": "code",
   "execution_count": null,
   "metadata": {
    "executionInfo": {
     "elapsed": 2700,
     "status": "ok",
     "timestamp": 1695375811275,
     "user": {
      "displayName": "Aravind P C",
      "userId": "14537714054658235030"
     },
     "user_tz": -330
    },
    "id": "x49j47OBXqln"
   },
   "outputs": [],
   "source": [
    "def build_embedding_bilstm_model(\n",
    "    vocab_size: int, embed_dims: int, lstm_units: int, tag_size: int\n",
    ") -> tf.keras.Model:\n",
    "    x = tf.keras.layers.Input(shape=(None,), dtype=tf.int64, name=\"x\")\n",
    "    y = tf.keras.layers.Embedding(vocab_size, embed_dims, mask_zero=True)(x)\n",
    "    y = tf.keras.layers.Bidirectional(\n",
    "        tf.keras.layers.LSTM(lstm_units, return_sequences=True)\n",
    "    )(y)\n",
    "    output = tf.keras.layers.Dense(tag_size, activation='softmax')(y) \n",
    "\n",
    "    return tf.keras.Model(inputs=x, outputs=output)\n",
    "\n",
    "\n",
    "model = build_embedding_bilstm_model(VOCAB_SIZE, 64, 128, TAG_SIZE)"
   ]
  },
  {
   "cell_type": "code",
   "execution_count": null,
   "metadata": {
    "executionInfo": {
     "elapsed": 8,
     "status": "ok",
     "timestamp": 1695375811275,
     "user": {
      "displayName": "Aravind P C",
      "userId": "14537714054658235030"
     },
     "user_tz": -330
    },
    "id": "BywhHGl7XwGO"
   },
   "outputs": [],
   "source": [
    "model.compile(optimizer='adam', loss='sparse_categorical_crossentropy', metrics=['accuracy'])"
   ]
  },
  {
   "cell_type": "markdown",
   "metadata": {
    "id": "PVhCHyj-XyiN"
   },
   "source": [
    "## Train the model\n"
   ]
  },
  {
   "cell_type": "code",
   "execution_count": null,
   "metadata": {
    "colab": {
     "base_uri": "https://localhost:8080/"
    },
    "executionInfo": {
     "elapsed": 9,
     "status": "ok",
     "timestamp": 1695375811276,
     "user": {
      "displayName": "Aravind P C",
      "userId": "14537714054658235030"
     },
     "user_tz": -330
    },
    "id": "m3sXVYCjX0ft",
    "outputId": "5d6972b6-8639-4165-f43c-efe45b659293"
   },
   "outputs": [],
   "source": [
    "train_dataset"
   ]
  },
  {
   "cell_type": "code",
   "execution_count": null,
   "metadata": {
    "colab": {
     "base_uri": "https://localhost:8080/"
    },
    "executionInfo": {
     "elapsed": 155892,
     "status": "ok",
     "timestamp": 1695375967160,
     "user": {
      "displayName": "Aravind P C",
      "userId": "14537714054658235030"
     },
     "user_tz": -330
    },
    "id": "dC25I4tKYXda",
    "outputId": "68f66682-20fa-4a30-fe16-170baa628d36"
   },
   "outputs": [],
   "source": [
    "EPOCHS = 40\n",
    "BATCH_SIZE = 32\n",
    "\n",
    "history = model.fit(train_dataset, epochs=EPOCHS, batch_size=BATCH_SIZE)"
   ]
  },
  {
   "cell_type": "markdown",
   "metadata": {
    "id": "97Bk1kuxaRA9"
   },
   "source": [
    "## Evaluate Named Entity Recognition model\n"
   ]
  },
  {
   "cell_type": "code",
   "execution_count": null,
   "metadata": {
    "executionInfo": {
     "elapsed": 13,
     "status": "ok",
     "timestamp": 1695375967160,
     "user": {
      "displayName": "Aravind P C",
      "userId": "14537714054658235030"
     },
     "user_tz": -330
    },
    "id": "3mG3Yc6aaEYD"
   },
   "outputs": [],
   "source": [
    "test_conll_dataset = dataframe_to_conll(testing_dataset)\n",
    "test_dataset = Dataset.from_pandas(testing_dataset)\n",
    "\n",
    "def create_data_generator(dataset):\n",
    "  def data_generator():\n",
    "    for item in dataset:\n",
    "      yield item['Word'], item['Tag']\n",
    "\n",
    "  return data_generator\n",
    "\n",
    "data_signature= (\n",
    "        tf.TensorSpec(shape=(None,), dtype=tf.string),\n",
    "        tf.TensorSpec(shape=(None, ), dtype=tf.int32)\n",
    ")\n",
    "\n",
    "test_data = tf.data.Dataset.from_generator(\n",
    "    create_data_generator(test_dataset),\n",
    "    output_signature=data_signature\n",
    ")\n",
    "\n",
    "test_dataset = (\n",
    "    test_data.map(dataset_preprocess)\n",
    "    .padded_batch(batch_size=BATCH_SIZE).cache()\n",
    ")"
   ]
  },
  {
   "cell_type": "code",
   "execution_count": null,
   "metadata": {
    "colab": {
     "base_uri": "https://localhost:8080/"
    },
    "executionInfo": {
     "elapsed": 6091,
     "status": "ok",
     "timestamp": 1695375973247,
     "user": {
      "displayName": "Aravind P C",
      "userId": "14537714054658235030"
     },
     "user_tz": -330
    },
    "id": "F3VsQAMQaiNa",
    "outputId": "1fa5961f-eaf9-41b9-a7d7-05816cf80ca9"
   },
   "outputs": [],
   "source": [
    "model.evaluate(test_dataset)"
   ]
  },
  {
   "cell_type": "code",
   "execution_count": null,
   "metadata": {
    "colab": {
     "base_uri": "https://localhost:8080/"
    },
    "executionInfo": {
     "elapsed": 92300,
     "status": "ok",
     "timestamp": 1695376067918,
     "user": {
      "displayName": "Aravind P C",
      "userId": "14537714054658235030"
     },
     "user_tz": -330
    },
    "id": "K3l1vQdSeFQh",
    "outputId": "21987a97-e0e8-4122-ea0b-12808bd60aac"
   },
   "outputs": [],
   "source": [
    "import numpy as np\n",
    "predicted_tags_list = []\n",
    "true_tags_list = []\n",
    "for i in range(len(testing_dataset)):\n",
    "    Test_case = testing_dataset.iloc[i]['Word']\n",
    "    true_tags_list.extend(le.inverse_transform(testing_dataset.iloc[i]['Tag']))\n",
    "    # Preprocess the test sentence (similar to what you did during training)\n",
    "    preprocessed_test_sentence = preprecess_tokens(Test_case)\n",
    "\n",
    "    # Reshape the preprocessed input to match the model's input shape\n",
    "    input_sequence = np.array(preprocessed_test_sentence)\n",
    "    input_sequence = np.expand_dims(input_sequence, axis=0)\n",
    "\n",
    "    # Predict the tags for the test sentence\n",
    "    predictions = model.predict(input_sequence)\n",
    "\n",
    "    # Decode the predictions to obtain the predicted tags\n",
    "    predicted_tags = np.argmax(predictions, axis=-1)[0]\n",
    "\n",
    "    # Inverse transform the predicted tags to get the original labels\n",
    "    predicted_tags_list.extend(list(le2.inverse_transform(predicted_tags)))"
   ]
  },
  {
   "cell_type": "code",
   "execution_count": null,
   "metadata": {
    "colab": {
     "base_uri": "https://localhost:8080/"
    },
    "executionInfo": {
     "elapsed": 1174,
     "status": "ok",
     "timestamp": 1695376069080,
     "user": {
      "displayName": "Aravind P C",
      "userId": "14537714054658235030"
     },
     "user_tz": -330
    },
    "id": "z18Uo8wJmyfy",
    "outputId": "4a554fe4-247e-406f-b373-bb0bc748b3ca"
   },
   "outputs": [],
   "source": [
    "from sklearn.metrics import classification_report\n",
    "print(classification_report(true_tags_list, predicted_tags_list))"
   ]
  },
  {
   "cell_type": "code",
   "execution_count": null,
   "metadata": {
    "executionInfo": {
     "elapsed": 4,
     "status": "ok",
     "timestamp": 1695376069080,
     "user": {
      "displayName": "Aravind P C",
      "userId": "14537714054658235030"
     },
     "user_tz": -330
    },
    "id": "5i_Daqe_h9Op"
   },
   "outputs": [],
   "source": [
    "p = []\n",
    "t = []\n",
    "for i in predicted_tags_list:\n",
    "  if i == 'O':\n",
    "    p.append(i)\n",
    "  else:\n",
    "    p.append(i[2:])\n",
    "\n",
    "for i in true_tags_list:\n",
    "  if i == 'O':\n",
    "    t.append(i)\n",
    "  else:\n",
    "    t.append(i[2:])"
   ]
  },
  {
   "cell_type": "code",
   "execution_count": null,
   "metadata": {
    "colab": {
     "base_uri": "https://localhost:8080/"
    },
    "executionInfo": {
     "elapsed": 638,
     "status": "ok",
     "timestamp": 1695376069715,
     "user": {
      "displayName": "Aravind P C",
      "userId": "14537714054658235030"
     },
     "user_tz": -330
    },
    "id": "LmCsQ8hviENf",
    "outputId": "0940f7a3-ce8f-4eb8-8f8e-8e916faed7fa"
   },
   "outputs": [],
   "source": [
    "from sklearn.metrics import classification_report\n",
    "print(classification_report(t, p))"
   ]
  },
  {
   "cell_type": "code",
   "execution_count": null,
   "metadata": {
    "colab": {
     "base_uri": "https://localhost:8080/"
    },
    "executionInfo": {
     "elapsed": 892,
     "status": "ok",
     "timestamp": 1695376070605,
     "user": {
      "displayName": "Aravind P C",
      "userId": "14537714054658235030"
     },
     "user_tz": -330
    },
    "id": "oq3KAmgJW0Qv",
    "outputId": "5d166794-c50a-4891-a21d-68d4c63a6684"
   },
   "outputs": [],
   "source": [
    "report = classification_report(t, p, digits=4, output_dict=True)\n",
    "f1_weighted = report['weighted avg']['f1-score']\n",
    "\n",
    "recall_weighted = report['weighted avg']['recall']\n",
    "precision_weighted = report['weighted avg']['precision']\n",
    "\n",
    "# Print the results\n",
    "\n",
    "print ('Weighted F1 Score: ', f1_weighted)\n",
    "print ('Weighted Recall: ', recall_weighted)\n",
    "print ('Weighted Precision: ', precision_weighted)"
   ]
  },
  {
   "cell_type": "code",
   "execution_count": null,
   "metadata": {
    "colab": {
     "base_uri": "https://localhost:8080/"
    },
    "executionInfo": {
     "elapsed": 666,
     "status": "ok",
     "timestamp": 1695376071268,
     "user": {
      "displayName": "Aravind P C",
      "userId": "14537714054658235030"
     },
     "user_tz": -330
    },
    "id": "S62j1zFYXNjg",
    "outputId": "1c45fedf-3a7d-4a6d-c36d-8a27c2ca97b5"
   },
   "outputs": [],
   "source": [
    "report = classification_report(t, p, digits=4, output_dict=True)\n",
    "# Access the weighted F1 score, recall, and precision\n",
    "f1_weighted = report['macro avg']['f1-score']\n",
    "\n",
    "recall_weighted = report['macro avg']['recall']\n",
    "precision_weighted = report['macro avg']['precision']\n",
    "\n",
    "# Print the results\n",
    "\n",
    "print ('Macro F1 Score: ', f1_weighted)\n",
    "print ('Macro Recall: ', recall_weighted)\n",
    "print ('Macro Precision: ', precision_weighted)"
   ]
  },
  {
   "cell_type": "markdown",
   "metadata": {
    "id": "ey9RtgrWbcC6"
   },
   "source": [
    "# Case Study"
   ]
  },
  {
   "cell_type": "code",
   "execution_count": null,
   "metadata": {
    "colab": {
     "base_uri": "https://localhost:8080/"
    },
    "executionInfo": {
     "elapsed": 392,
     "status": "ok",
     "timestamp": 1695134623974,
     "user": {
      "displayName": "GROUP TWO",
      "userId": "05709533704322105117"
     },
     "user_tz": -330
    },
    "id": "DxZDwv7d5WLP",
    "outputId": "3147dceb-6197-476c-a733-bd646a8230f6"
   },
   "outputs": [],
   "source": [
    "import numpy as np\n",
    "\n",
    "# Sample test sentence\n",
    "test_sentence = \"Google has agreed to pay $93 million to settle a lawsuit filed by the U.S. state of California over allegations that the company's location-privacy practices misled consumers and violated consumer protection laws.\"\n",
    "\n",
    "preprocessed_test_sentence = preprecess_tokens(test_sentence.split())\n",
    "\n",
    "# Reshape the preprocessed input to match the model's input shape\n",
    "input_sequence = np.array(preprocessed_test_sentence)\n",
    "input_sequence = np.expand_dims(input_sequence, axis=0)\n",
    "\n",
    "predictions = model.predict(input_sequence)\n",
    "\n",
    "# Decode the predictions to obtain the predicted tags\n",
    "predicted_tags = np.argmax(predictions, axis=-1)[0]\n",
    "\n",
    "# Inverse transform the predicted tags to get the original labels\n",
    "predicted_tags = list(le2.inverse_transform(predicted_tags))\n",
    "\n",
    "for token, label in zip(test_sentence.split(), predicted_tags):\n",
    "    print(\"{:20}\\t{}\".format(token, label))\n"
   ]
  }
 ],
 "metadata": {
  "accelerator": "GPU",
  "colab": {
   "provenance": []
  },
  "gpuClass": "standard",
  "kernelspec": {
   "display_name": "Python 3 (ipykernel)",
   "language": "python",
   "name": "python3"
  },
  "language_info": {
   "codemirror_mode": {
    "name": "ipython",
    "version": 3
   },
   "file_extension": ".py",
   "mimetype": "text/x-python",
   "name": "python",
   "nbconvert_exporter": "python",
   "pygments_lexer": "ipython3",
   "version": "3.10.7"
  }
 },
 "nbformat": 4,
 "nbformat_minor": 1
}
