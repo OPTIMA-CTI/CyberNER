{
 "cells": [
  {
   "cell_type": "code",
   "execution_count": null,
   "metadata": {
    "colab": {
     "base_uri": "https://localhost:8080/"
    },
    "executionInfo": {
     "elapsed": 345,
     "status": "ok",
     "timestamp": 1696042786807,
     "user": {
      "displayName": "GROUP TWO",
      "userId": "05709533704322105117"
     },
     "user_tz": -330
    },
    "id": "E7V4Irw-UUYR",
    "outputId": "6689c888-d118-44a4-8bf3-9f783dde7522"
   },
   "outputs": [],
   "source": [
    "import numpy as np\n",
    "import pandas as pd\n",
    "import tensorflow as tf\n",
    "print('Tensorflow version: ', tf.__version__)"
   ]
  },
  {
   "cell_type": "code",
   "execution_count": null,
   "metadata": {
    "colab": {
     "base_uri": "https://localhost:8080/"
    },
    "executionInfo": {
     "elapsed": 2769,
     "status": "ok",
     "timestamp": 1696042790191,
     "user": {
      "displayName": "GROUP TWO",
      "userId": "05709533704322105117"
     },
     "user_tz": -330
    },
    "id": "c_edbIXuVLsn",
    "outputId": "f592d503-65ca-4717-d671-eac87ce14ec0"
   },
   "outputs": [],
   "source": [
    "from google.colab import drive\n",
    "drive.mount('/content/drive')"
   ]
  },
  {
   "cell_type": "code",
   "execution_count": null,
   "metadata": {
    "colab": {
     "base_uri": "https://localhost:8080/",
     "height": 423
    },
    "executionInfo": {
     "elapsed": 13,
     "status": "ok",
     "timestamp": 1696042790192,
     "user": {
      "displayName": "GROUP TWO",
      "userId": "05709533704322105117"
     },
     "user_tz": -330
    },
    "id": "g4iVYkiqUXuA",
    "outputId": "f929bf11-181f-4a7f-e1bc-48720e664949"
   },
   "outputs": [],
   "source": [
    "df = pd.read_csv('NER dataset.csv', encoding='utf-8')\n",
    "df = df.fillna(method='ffill')\n",
    "df.head(-5)"
   ]
  },
  {
   "cell_type": "code",
   "execution_count": null,
   "metadata": {
    "colab": {
     "base_uri": "https://localhost:8080/"
    },
    "executionInfo": {
     "elapsed": 10,
     "status": "ok",
     "timestamp": 1696042790192,
     "user": {
      "displayName": "GROUP TWO",
      "userId": "05709533704322105117"
     },
     "user_tz": -330
    },
    "id": "0xRaYxQpsVNv",
    "outputId": "d545f6d3-3349-41e1-c3ac-1ecbd1a43682"
   },
   "outputs": [],
   "source": [
    "df['Sentence Id'].nunique(), df.Word.nunique(), df.Tag.nunique()"
   ]
  },
  {
   "cell_type": "code",
   "execution_count": null,
   "metadata": {
    "executionInfo": {
     "elapsed": 8,
     "status": "ok",
     "timestamp": 1696042790192,
     "user": {
      "displayName": "GROUP TWO",
      "userId": "05709533704322105117"
     },
     "user_tz": -330
    },
    "id": "1Hao1zyPOe8m"
   },
   "outputs": [],
   "source": [
    "from sklearn import preprocessing\n",
    "le = preprocessing.LabelEncoder()\n",
    "df['ner_tags'] = le.fit_transform(df['Tag'])\n",
    "df['ner_tags'] = df['ner_tags'] + 1"
   ]
  },
  {
   "cell_type": "code",
   "execution_count": null,
   "metadata": {
    "colab": {
     "base_uri": "https://localhost:8080/",
     "height": 833
    },
    "executionInfo": {
     "elapsed": 7,
     "status": "ok",
     "timestamp": 1696042790192,
     "user": {
      "displayName": "GROUP TWO",
      "userId": "05709533704322105117"
     },
     "user_tz": -330
    },
    "id": "9alNhDfEsYpI",
    "outputId": "9e15064c-488a-465e-9cc1-07e9d5ac61fa"
   },
   "outputs": [],
   "source": [
    "df.groupby('ner_tags').size().reset_index(name='counts')"
   ]
  },
  {
   "cell_type": "code",
   "execution_count": null,
   "metadata": {
    "executionInfo": {
     "elapsed": 7,
     "status": "ok",
     "timestamp": 1696042790192,
     "user": {
      "displayName": "GROUP TWO",
      "userId": "05709533704322105117"
     },
     "user_tz": -330
    },
    "id": "z-bP7ZTq9EOn"
   },
   "outputs": [],
   "source": [
    "class SentenceGetter(object):\n",
    "\n",
    "    def __init__(self, data):\n",
    "        self.n_sent = 1\n",
    "        self.data = data\n",
    "        self.empty = False\n",
    "        agg_func = lambda s: [(w, t) for w, t in zip(s[\"Word\"].values.tolist(),\n",
    "                                                           s[\"ner_tags\"].values.tolist())]\n",
    "        self.grouped = self.data.groupby(\"Sentence Id\").apply(agg_func)\n",
    "        self.sentences = [s for s in self.grouped]\n",
    "\n",
    "    def get_next(self):\n",
    "        try:\n",
    "            s = self.grouped[\"{}\".format(self.n_sent)]\n",
    "            self.n_sent += 1\n",
    "            return s\n",
    "        except:\n",
    "            return None"
   ]
  },
  {
   "cell_type": "code",
   "execution_count": null,
   "metadata": {
    "executionInfo": {
     "elapsed": 629,
     "status": "ok",
     "timestamp": 1696042790815,
     "user": {
      "displayName": "GROUP TWO",
      "userId": "05709533704322105117"
     },
     "user_tz": -330
    },
    "id": "wX4g4thk9EOn"
   },
   "outputs": [],
   "source": [
    "getter = SentenceGetter(df)"
   ]
  },
  {
   "cell_type": "code",
   "execution_count": null,
   "metadata": {
    "colab": {
     "base_uri": "https://localhost:8080/"
    },
    "executionInfo": {
     "elapsed": 5,
     "status": "ok",
     "timestamp": 1696042790816,
     "user": {
      "displayName": "GROUP TWO",
      "userId": "05709533704322105117"
     },
     "user_tz": -330
    },
    "id": "7xC_wcmZ9EOo",
    "outputId": "9837b1e0-b41b-4d21-ba84-45b41d6f17f6"
   },
   "outputs": [],
   "source": [
    "sentences = [[word[0] for word in sentence] for sentence in getter.sentences]\n",
    "sentences[0]"
   ]
  },
  {
   "cell_type": "code",
   "execution_count": null,
   "metadata": {
    "colab": {
     "base_uri": "https://localhost:8080/"
    },
    "executionInfo": {
     "elapsed": 1114,
     "status": "ok",
     "timestamp": 1696042791927,
     "user": {
      "displayName": "GROUP TWO",
      "userId": "05709533704322105117"
     },
     "user_tz": -330
    },
    "id": "LGrUE5qu9EOo",
    "outputId": "a333fb8f-a296-4c15-823c-769fa595cb2b"
   },
   "outputs": [],
   "source": [
    "labels = [[s[1] for s in sentence] for sentence in getter.sentences]\n",
    "print(labels[0])"
   ]
  },
  {
   "cell_type": "code",
   "execution_count": null,
   "metadata": {
    "executionInfo": {
     "elapsed": 20,
     "status": "ok",
     "timestamp": 1696042791927,
     "user": {
      "displayName": "GROUP TWO",
      "userId": "05709533704322105117"
     },
     "user_tz": -330
    },
    "id": "ErlG17qQeSxE"
   },
   "outputs": [],
   "source": [
    "def split_tokens_and_labels(tokens_list, labels_list, max_length=75):\n",
    "    new_tokens_list = []\n",
    "    new_labels_list = []\n",
    "\n",
    "    for tokens, labels in zip(tokens_list, labels_list):\n",
    "        if len(tokens) <= max_length:\n",
    "            new_tokens_list.append(tokens)\n",
    "            new_labels_list.append(labels)\n",
    "        else:\n",
    "            start = 0\n",
    "            end = max_length\n",
    "            while start < len(tokens):\n",
    "                new_tokens_list.append(tokens[start:end])\n",
    "                new_labels_list.append(labels[start:end])\n",
    "                start = end\n",
    "                end = start + max_length\n",
    "\n",
    "    return new_tokens_list, new_labels_list\n",
    "\n"
   ]
  },
  {
   "cell_type": "code",
   "execution_count": null,
   "metadata": {
    "executionInfo": {
     "elapsed": 20,
     "status": "ok",
     "timestamp": 1696042791927,
     "user": {
      "displayName": "GROUP TWO",
      "userId": "05709533704322105117"
     },
     "user_tz": -330
    },
    "id": "GOLV6H94fmcc"
   },
   "outputs": [],
   "source": [
    "new_tokens_list, new_labels_list = split_tokens_and_labels(sentences, labels, max_length=75)"
   ]
  },
  {
   "cell_type": "markdown",
   "metadata": {
    "id": "Q81Xs4CK9EOo"
   },
   "source": [
    "### Preprocess the sentence and labels. Prepare to use with pytorch and bert"
   ]
  },
  {
   "cell_type": "code",
   "execution_count": null,
   "metadata": {
    "colab": {
     "base_uri": "https://localhost:8080/"
    },
    "executionInfo": {
     "elapsed": 7115,
     "status": "ok",
     "timestamp": 1696042799037,
     "user": {
      "displayName": "GROUP TWO",
      "userId": "05709533704322105117"
     },
     "user_tz": -330
    },
    "id": "K9G_qljfJBJJ",
    "outputId": "02b107a4-5183-4884-b468-69616693369e"
   },
   "outputs": [],
   "source": [
    "pip install transformers"
   ]
  },
  {
   "cell_type": "code",
   "execution_count": null,
   "metadata": {
    "colab": {
     "base_uri": "https://localhost:8080/"
    },
    "executionInfo": {
     "elapsed": 13156,
     "status": "ok",
     "timestamp": 1696042812186,
     "user": {
      "displayName": "GROUP TWO",
      "userId": "05709533704322105117"
     },
     "user_tz": -330
    },
    "id": "_M-1f3cBDK9F",
    "outputId": "01cf64a5-1042-468a-d34d-b2223b30e31d"
   },
   "outputs": [],
   "source": [
    "pip install pytorch-crf"
   ]
  },
  {
   "cell_type": "code",
   "execution_count": null,
   "metadata": {
    "executionInfo": {
     "elapsed": 20,
     "status": "ok",
     "timestamp": 1696042812187,
     "user": {
      "displayName": "GROUP TWO",
      "userId": "05709533704322105117"
     },
     "user_tz": -330
    },
    "id": "SWsH9DZ09EOp"
   },
   "outputs": [],
   "source": [
    "from transformers import BertPreTrainedModel, BertModel\n",
    "from transformers.modeling_outputs import  TokenClassifierOutput\n",
    "from torch import nn\n",
    "from torch.nn import CrossEntropyLoss\n",
    "import torch\n",
    "from torchcrf import CRF"
   ]
  },
  {
   "cell_type": "code",
   "execution_count": null,
   "metadata": {
    "executionInfo": {
     "elapsed": 565,
     "status": "ok",
     "timestamp": 1696043454571,
     "user": {
      "displayName": "GROUP TWO",
      "userId": "05709533704322105117"
     },
     "user_tz": -330
    },
    "id": "wkXSyyqCC_j9"
   },
   "outputs": [],
   "source": [
    "class BertLstmCRF(BertPreTrainedModel):\n",
    "\n",
    "    _keys_to_ignore_on_load_unexpected = [r\"pooler\"]\n",
    "\n",
    "    def __init__(self, config, dropout_prob=0.3, lstm_hidden_size=64):\n",
    "        super().__init__(config)\n",
    "        self.num_labels = config.num_labels\n",
    "\n",
    "        self.bert = BertModel(config, add_pooling_layer=False)\n",
    "        self.dropout = nn.Dropout(dropout_prob)\n",
    "\n",
    "        lstm_hidden_size = lstm_hidden_size or (config.hidden_size) // 2\n",
    "        self.bilstm = nn.LSTM(config.hidden_size, lstm_hidden_size, dropout=dropout_prob, batch_first=True, bidirectional=True)\n",
    "\n",
    "        self.classifier = nn.Linear(lstm_hidden_size * 2, config.num_labels)\n",
    "        self.crf = CRF(num_tags=config.num_labels, batch_first=True)\n",
    "        self.init_weights()\n",
    "\n",
    "    def forward(\n",
    "        self,\n",
    "        input_ids=None,\n",
    "        attention_mask=None,\n",
    "        token_type_ids=None,\n",
    "        position_ids=None,\n",
    "        head_mask=None,\n",
    "        inputs_embeds=None,\n",
    "        labels=None,\n",
    "        output_attentions=None,\n",
    "        output_hidden_states=None,\n",
    "        return_dict=None,\n",
    "    ):\n",
    "        r\"\"\"\n",
    "        labels (:obj:`torch.LongTensor` of shape :obj:`(batch_size, sequence_length)`, `optional`):\n",
    "            Labels for computing the token classification loss. Indices should be in ``[0, ..., config.num_labels -\n",
    "            1]``.\n",
    "        \"\"\"\n",
    "        return_dict = return_dict if return_dict is not None else self.config.use_return_dict\n",
    "\n",
    "        outputs = self.bert(\n",
    "            input_ids,\n",
    "            attention_mask=attention_mask,\n",
    "            token_type_ids=token_type_ids,\n",
    "            position_ids=position_ids,\n",
    "            head_mask=head_mask,\n",
    "            inputs_embeds=inputs_embeds,\n",
    "            output_attentions=output_attentions,\n",
    "            output_hidden_states=output_hidden_states,\n",
    "            return_dict=return_dict,\n",
    "        )\n",
    "\n",
    "        sequence_output = outputs[0]\n",
    "        sequence_output = self.dropout(sequence_output)\n",
    "        lstm_output, hc = self.bilstm(sequence_output)\n",
    "        logits = self.classifier(lstm_output)\n",
    "\n",
    "        loss = None\n",
    "        if labels is not None:\n",
    "            log_likelihood, tags = self.crf(logits, labels), self.crf.decode(logits)\n",
    "            loss = 0 - log_likelihood\n",
    "        else:\n",
    "            tags = self.crf.decode(logits)\n",
    "        tags = torch.Tensor(tags)\n",
    "\n",
    "        if not return_dict:\n",
    "            output = (tags,) + outputs[2:]\n",
    "            return ((loss,) + output) if loss is not None else output\n",
    "\n",
    "        return loss, tags\n"
   ]
  },
  {
   "cell_type": "code",
   "execution_count": null,
   "metadata": {
    "colab": {
     "base_uri": "https://localhost:8080/"
    },
    "executionInfo": {
     "elapsed": 51597,
     "status": "ok",
     "timestamp": 1696042863766,
     "user": {
      "displayName": "GROUP TWO",
      "userId": "05709533704322105117"
     },
     "user_tz": -330
    },
    "id": "fvP6sYCpKQGR",
    "outputId": "5c69bac9-2961-4f3e-c232-164585e0f959"
   },
   "outputs": [],
   "source": [
    "!pip install datasets\n",
    "!pip install transformers[torch]\n",
    "!pip install accelerate>=0.20.1"
   ]
  },
  {
   "cell_type": "code",
   "execution_count": null,
   "metadata": {
    "executionInfo": {
     "elapsed": 4,
     "status": "ok",
     "timestamp": 1696042864360,
     "user": {
      "displayName": "GROUP TWO",
      "userId": "05709533704322105117"
     },
     "user_tz": -330
    },
    "id": "wk-ZSrYKKQtx"
   },
   "outputs": [],
   "source": [
    "from datasets import Dataset\n",
    "data = {\n",
    "    'tokens': new_tokens_list,\n",
    "    'ner_tags': new_labels_list\n",
    "}\n",
    "dataset = Dataset.from_dict(data)"
   ]
  },
  {
   "cell_type": "code",
   "execution_count": null,
   "metadata": {
    "executionInfo": {
     "elapsed": 874,
     "status": "ok",
     "timestamp": 1696042865231,
     "user": {
      "displayName": "GROUP TWO",
      "userId": "05709533704322105117"
     },
     "user_tz": -330
    },
    "id": "L7XfK7c5Dad9"
   },
   "outputs": [],
   "source": [
    "from sklearn.metrics import classification_report, f1_score\n",
    "from transformers import BertTokenizerFast, Trainer, TrainingArguments,BertTokenizer\n",
    "from transformers.trainer_utils import IntervalStrategy\n",
    "from sklearn.model_selection import train_test_split\n",
    "\n",
    "\n",
    "train_dataset, test_dataset = train_test_split(dataset, test_size = 0.2, random_state = 2018)\n",
    "train_dataset = Dataset.from_dict(train_dataset)\n",
    "test_dataset = Dataset.from_dict(test_dataset)\n",
    "\n",
    "train_dataset = train_dataset.rename_column('ner_tags', 'label_ids')\n",
    "test_dataset = test_dataset.rename_column('ner_tags', 'label_ids')"
   ]
  },
  {
   "cell_type": "code",
   "execution_count": null,
   "metadata": {
    "colab": {
     "base_uri": "https://localhost:8080/"
    },
    "executionInfo": {
     "elapsed": 1288,
     "status": "ok",
     "timestamp": 1696043460253,
     "user": {
      "displayName": "GROUP TWO",
      "userId": "05709533704322105117"
     },
     "user_tz": -330
    },
    "id": "NE3zT-jBV0r6",
    "outputId": "391d3f86-6187-4964-e896-f2dd027b40a4"
   },
   "outputs": [],
   "source": [
    "model = BertLstmCRF.from_pretrained('bert-base-cased', num_labels=26)\n",
    "tokenizer = BertTokenizerFast.from_pretrained('bert-base-cased')"
   ]
  },
  {
   "cell_type": "code",
   "execution_count": null,
   "metadata": {
    "colab": {
     "base_uri": "https://localhost:8080/",
     "height": 118
    },
    "executionInfo": {
     "elapsed": 7326,
     "status": "ok",
     "timestamp": 1696042874336,
     "user": {
      "displayName": "GROUP TWO",
      "userId": "05709533704322105117"
     },
     "user_tz": -330
    },
    "id": "svBk1BHAEc-S",
    "outputId": "9634bd8b-44ec-4d89-f446-480a9dc6ea31"
   },
   "outputs": [],
   "source": [
    "def tokenize(batch):\n",
    "    result = {\n",
    "        'label_ids': [],\n",
    "        'input_ids': [],\n",
    "        'token_type_ids': [],\n",
    "    }\n",
    "    max_length = tokenizer.max_model_input_sizes['bert-base-cased']\n",
    "\n",
    "    for tokens, label in zip(batch['tokens'], batch['label_ids']):\n",
    "        tokenids = tokenizer(tokens, add_special_tokens=False)\n",
    "\n",
    "        token_ids = []\n",
    "        label_ids = []\n",
    "        for ids, lab in zip(tokenids['input_ids'], label):\n",
    "            if len(ids) > 1:\n",
    "                token_ids.extend(ids)\n",
    "                chunk = [lab] * len(ids)\n",
    "                chunk[0] = lab\n",
    "                label_ids.extend(chunk)\n",
    "            else:\n",
    "                token_ids.extend(ids)\n",
    "                chunk = [lab] * len(ids)\n",
    "                label_ids.extend(chunk)\n",
    "\n",
    "        token_type_ids = tokenizer.create_token_type_ids_from_sequences(token_ids)\n",
    "        token_ids = tokenizer.build_inputs_with_special_tokens(token_ids)\n",
    "        label_ids.insert(0, 0)\n",
    "        label_ids.append(0)\n",
    "        result['input_ids'].append(token_ids)\n",
    "        result['label_ids'].append(label_ids)\n",
    "        result['token_type_ids'].append(token_type_ids)\n",
    "\n",
    "    result = tokenizer.pad(result, padding='longest', max_length=max_length, return_attention_mask=True, )\n",
    "    for i in range(len(result['input_ids'])):\n",
    "        diff = len(result['input_ids'][i]) - len(result['label_ids'][i])\n",
    "        result['label_ids'][i] += [0] * diff\n",
    "    return result\n",
    "\n",
    "\n",
    "train_dataset = train_dataset.map(tokenize, batched=True, batch_size=len(train_dataset))\n",
    "test_dataset = test_dataset.map(tokenize, batched=True, batch_size=len(test_dataset))\n",
    "train_dataset.set_format('torch', columns=['input_ids', 'token_type_ids', 'attention_mask', 'label_ids'])\n",
    "test_dataset.set_format('torch', columns=['input_ids', 'token_type_ids', 'attention_mask', 'label_ids'])\n",
    "\n",
    "\n",
    "def compute_metrics(pred):\n",
    "    labels = pred.label_ids.flatten()\n",
    "    preds = pred.predictions.flatten()\n",
    "    f1 = f1_score(labels, preds, average='macro')\n",
    "    print(classification_report(labels, preds))\n",
    "    return {\n",
    "        'f1': f1\n",
    "    }\n"
   ]
  },
  {
   "cell_type": "markdown",
   "metadata": {},
   "source": [
    "## Training"
   ]
  },
  {
   "cell_type": "code",
   "execution_count": null,
   "metadata": {
    "colab": {
     "background_save": true,
     "base_uri": "https://localhost:8080/",
     "height": 1000
    },
    "id": "97GMXtyvUa-o"
   },
   "outputs": [],
   "source": [
    "from transformers import TrainingArguments, Trainer, AdamW, get_scheduler, EarlyStoppingCallback\n",
    "\n",
    "\n",
    "learning_rate = 3e-5\n",
    "optimizer = AdamW(\n",
    "    model.parameters(),\n",
    "    lr=learning_rate,\n",
    "    weight_decay=0.01,  \n",
    ")\n",
    "\n",
    "num_warmup_steps = 10\n",
    "\n",
    "scheduler = get_scheduler(\n",
    "    \"linear\",\n",
    "    optimizer,\n",
    "    num_warmup_steps=num_warmup_steps,\n",
    "    num_training_steps=len(train_dataset) // 64 * 3,\n",
    ")\n",
    "\n",
    "model.optimizer = optimizer\n",
    "model.lr_scheduler = scheduler\n",
    "\n",
    "training_args = TrainingArguments(\n",
    "    output_dir='./results',\n",
    "    num_train_epochs=15,\n",
    "    per_device_train_batch_size=16,\n",
    "    per_device_eval_batch_size=16,\n",
    "\n",
    "    save_strategy=IntervalStrategy.EPOCH,\n",
    "    evaluation_strategy=IntervalStrategy.EPOCH,  \n",
    "    logging_dir='./logs',\n",
    "\n",
    "\n",
    "    load_best_model_at_end=True,\n",
    "    metric_for_best_model=\"eval_loss\",\n",
    "    greater_is_better=False, \n",
    "    report_to=\"tensorboard\", \n",
    "    run_name=\"my_experiment\", \n",
    ")\n",
    "\n",
    "trainer = Trainer(\n",
    "    model=model,\n",
    "    args=training_args,\n",
    "    compute_metrics=compute_metrics,\n",
    "    train_dataset=train_dataset,\n",
    "    eval_dataset=test_dataset,\n",
    "    callbacks=[EarlyStoppingCallback(early_stopping_patience=3)],\n",
    ")\n",
    "\n",
    "\n",
    "trainer.train()\n",
    "\n",
    "results = trainer.evaluate()\n",
    "print(results)\n"
   ]
  },
  {
   "cell_type": "markdown",
   "metadata": {
    "id": "LiqeS-sR4G9_"
   },
   "source": [
    "# Test Data"
   ]
  },
  {
   "cell_type": "code",
   "execution_count": null,
   "metadata": {
    "executionInfo": {
     "elapsed": 16178,
     "status": "ok",
     "timestamp": 1696042662177,
     "user": {
      "displayName": "GROUP TWO",
      "userId": "05709533704322105117"
     },
     "user_tz": -330
    },
    "id": "ALD_90ULN6_o"
   },
   "outputs": [],
   "source": [
    "device = torch.device(\"cuda\" if torch.cuda.is_available() else \"cpu\")\n",
    "\n",
    "true_label = []\n",
    "predictions = []\n",
    "model.to(device)\n",
    "      \n",
    "with torch.no_grad():\n",
    "           \n",
    "  outputs = model(test_dataset['input_ids'].to(device), token_type_ids=None,\n",
    "                            attention_mask=test_dataset['attention_mask'].to(device), labels=test_dataset['label_ids'].to(device))\n",
    "  \n",
    "logits = outputs[1].detach().cpu().numpy()\n",
    "label_ids = test_dataset['label_ids'].to('cpu').numpy()\n",
    "\n",
    "predictions = list(logits.flatten())\n",
    "true_label = list(label_ids.flatten())"
   ]
  },
  {
   "cell_type": "code",
   "execution_count": null,
   "metadata": {
    "executionInfo": {
     "elapsed": 18,
     "status": "ok",
     "timestamp": 1696042662178,
     "user": {
      "displayName": "GROUP TWO",
      "userId": "05709533704322105117"
     },
     "user_tz": -330
    },
    "id": "tWt3R073ZtOO"
   },
   "outputs": [],
   "source": [
    "pred_tags = [p for p, l in zip(predictions, true_label) if l!=0 ]\n",
    "true_test_tags = [l for l in true_label if l!=0]"
   ]
  },
  {
   "cell_type": "code",
   "execution_count": null,
   "metadata": {
    "executionInfo": {
     "elapsed": 620,
     "status": "ok",
     "timestamp": 1696042666706,
     "user": {
      "displayName": "GROUP TWO",
      "userId": "05709533704322105117"
     },
     "user_tz": -330
    },
    "id": "hgh-DNKj173_"
   },
   "outputs": [],
   "source": [
    "pred_ = [int(x - 1) for x in pred_tags]\n",
    "true_ = [int(x - 1) for x in true_test_tags]"
   ]
  },
  {
   "cell_type": "code",
   "execution_count": null,
   "metadata": {
    "executionInfo": {
     "elapsed": 393,
     "status": "ok",
     "timestamp": 1696042667584,
     "user": {
      "displayName": "GROUP TWO",
      "userId": "05709533704322105117"
     },
     "user_tz": -330
    },
    "id": "c0chgi3Y3AYU"
   },
   "outputs": [],
   "source": [
    "pred_ = le.inverse_transform(pred_)\n",
    "true_ = le.inverse_transform(true_)"
   ]
  },
  {
   "cell_type": "code",
   "execution_count": null,
   "metadata": {
    "executionInfo": {
     "elapsed": 3,
     "status": "ok",
     "timestamp": 1696042669019,
     "user": {
      "displayName": "GROUP TWO",
      "userId": "05709533704322105117"
     },
     "user_tz": -330
    },
    "id": "uUfOc4DKPEZS"
   },
   "outputs": [],
   "source": [
    "p = []\n",
    "t = []\n",
    "for i in pred_:\n",
    "  if i == 'O':\n",
    "    p.append(i)\n",
    "  else:\n",
    "    p.append(i[2:])\n",
    "\n",
    "for i in true_:\n",
    "  if i == 'O':\n",
    "    t.append(i)\n",
    "  else:\n",
    "    t.append(i[2:])"
   ]
  },
  {
   "cell_type": "code",
   "execution_count": null,
   "metadata": {
    "colab": {
     "base_uri": "https://localhost:8080/"
    },
    "executionInfo": {
     "elapsed": 1664,
     "status": "ok",
     "timestamp": 1696042672399,
     "user": {
      "displayName": "GROUP TWO",
      "userId": "05709533704322105117"
     },
     "user_tz": -330
    },
    "id": "YOUbWdJsRYmG",
    "outputId": "270bc0e2-404e-4fe9-b2b9-38efcbae5527"
   },
   "outputs": [],
   "source": [
    "from sklearn.metrics import classification_report\n",
    "print(classification_report(true_, pred_))"
   ]
  },
  {
   "cell_type": "code",
   "execution_count": null,
   "metadata": {
    "colab": {
     "base_uri": "https://localhost:8080/"
    },
    "executionInfo": {
     "elapsed": 994,
     "status": "ok",
     "timestamp": 1696042677340,
     "user": {
      "displayName": "GROUP TWO",
      "userId": "05709533704322105117"
     },
     "user_tz": -330
    },
    "id": "Nt_KqIT2PjRN",
    "outputId": "3273a6c3-d93a-4b48-887d-55a727ac56b7"
   },
   "outputs": [],
   "source": [
    "from sklearn.metrics import classification_report\n",
    "print(classification_report(t, p))"
   ]
  },
  {
   "cell_type": "code",
   "execution_count": null,
   "metadata": {
    "colab": {
     "base_uri": "https://localhost:8080/"
    },
    "executionInfo": {
     "elapsed": 948,
     "status": "ok",
     "timestamp": 1696042680868,
     "user": {
      "displayName": "GROUP TWO",
      "userId": "05709533704322105117"
     },
     "user_tz": -330
    },
    "id": "oq3KAmgJW0Qv",
    "outputId": "90882c34-1f22-41e9-ea3a-926a37c82594"
   },
   "outputs": [],
   "source": [
    "report = classification_report(t, p, digits=4, output_dict=True)\n",
    "# Access the weighted F1 score, recall, and precision\n",
    "f1_weighted = report['weighted avg']['f1-score']\n",
    "\n",
    "recall_weighted = report['weighted avg']['recall']\n",
    "precision_weighted = report['weighted avg']['precision']\n",
    "\n",
    "# Print the results\n",
    "\n",
    "print ('Weighted F1 Score: ', f1_weighted)\n",
    "print ('Weighted Recall: ', recall_weighted)\n",
    "print ('Weighted Precision: ', precision_weighted)"
   ]
  },
  {
   "cell_type": "code",
   "execution_count": null,
   "metadata": {
    "colab": {
     "base_uri": "https://localhost:8080/"
    },
    "executionInfo": {
     "elapsed": 1834,
     "status": "ok",
     "timestamp": 1696042684058,
     "user": {
      "displayName": "GROUP TWO",
      "userId": "05709533704322105117"
     },
     "user_tz": -330
    },
    "id": "S62j1zFYXNjg",
    "outputId": "aea7761f-ec03-4d24-c0f2-8dfbd9691e7b"
   },
   "outputs": [],
   "source": [
    "report = classification_report(t, p, digits=4, output_dict=True)\n",
    "# Access the weighted F1 score, recall, and precision\n",
    "f1_weighted = report['macro avg']['f1-score']\n",
    "\n",
    "recall_weighted = report['macro avg']['recall']\n",
    "precision_weighted = report['macro avg']['precision']\n",
    "\n",
    "# Print the results\n",
    "\n",
    "print ('Macro F1 Score: ', f1_weighted)\n",
    "print ('Macro Recall: ', recall_weighted)\n",
    "print ('Macro Precision: ', precision_weighted)"
   ]
  },
  {
   "cell_type": "code",
   "execution_count": null,
   "metadata": {
    "colab": {
     "base_uri": "https://localhost:8080/",
     "height": 1000
    },
    "executionInfo": {
     "elapsed": 4665,
     "status": "ok",
     "timestamp": 1695987567057,
     "user": {
      "displayName": "Aravind P C",
      "userId": "14537714054658235030"
     },
     "user_tz": -330
    },
    "id": "5qX8PBGj6lSX",
    "outputId": "2e781040-2ba0-4a8b-aa32-0b2b20c98b5c"
   },
   "outputs": [],
   "source": [
    "import matplotlib.pyplot as plt\n",
    "from sklearn.metrics import confusion_matrix\n",
    "import seaborn as sns\n",
    "import pandas as pd\n",
    "\n",
    "cm_array = confusion_matrix(t, p)\n",
    "\n",
    "cm_normalized = cm_array.astype('float') / cm_array.sum(axis=1)[:, np.newaxis]\n",
    "\n",
    "fig, ax = plt.subplots(figsize=(10, 10))\n",
    "\n",
    "cm_array_df = pd.DataFrame(cm_normalized, index=np.unique(p), columns=np.unique(p))\n",
    "\n",
    "annot_font_size = 14 \n",
    "annot_kws = {'size': annot_font_size}\n",
    "\n",
    "\n",
    "sns.heatmap(cm_array_df, annot=True, cbar=False, fmt='.2f', cmap='Blues', ax=ax, annot_kws=annot_kws)\n",
    "\n",
    "ax.set_xlabel('Predicted', fontsize=15)\n",
    "ax.set_ylabel('Actual', fontsize=15)\n",
    "ax.set_xticklabels(ax.get_xticklabels(), fontsize=15) \n",
    "ax.set_yticklabels(ax.get_yticklabels(), fontsize=15)\n",
    "plt.show()\n"
   ]
  },
  {
   "cell_type": "markdown",
   "metadata": {
    "id": "yuvg7zYA4QRq"
   },
   "source": [
    "# Case Study"
   ]
  },
  {
   "cell_type": "code",
   "execution_count": null,
   "metadata": {
    "id": "gDeEzESgMEyO"
   },
   "outputs": [],
   "source": [
    "lis = list(range(25))\n",
    "id2label = list(le.inverse_transform(lis))\n",
    "id2label.insert(0,'[PAD]')"
   ]
  },
  {
   "cell_type": "code",
   "execution_count": null,
   "metadata": {
    "colab": {
     "base_uri": "https://localhost:8080/"
    },
    "executionInfo": {
     "elapsed": 7224,
     "status": "ok",
     "timestamp": 1695899230493,
     "user": {
      "displayName": "ARAVIND P C",
      "userId": "12291347523308340981"
     },
     "user_tz": -330
    },
    "id": "s839DrEN6GEf",
    "outputId": "b5c54aeb-1bdd-4c96-bf40-a1c909409702"
   },
   "outputs": [],
   "source": [
    "model = BertLstmCRF.from_pretrained('./results/checkpoint-2744', num_labels=26)\n",
    "tokenizer = BertTokenizerFast.from_pretrained('bert-base-cased')\n",
    "\n",
    "\n",
    "def decode(label_ids, input_ids, offsets_mapping, id2label):\n",
    "    result = []\n",
    "    for k in range(len(label_ids)):\n",
    "        words = []\n",
    "        labels = []\n",
    "        for i in range(len(label_ids[k])):\n",
    "            start_ind, end_ind = offset_mapping[k][i]\n",
    "            word = tokenizer.convert_ids_to_tokens([int(input_ids[k][i])])[0]\n",
    "            is_subword = end_ind - start_ind != len(word)\n",
    "            if is_subword:\n",
    "                if word.startswith('##'):\n",
    "                    words[-1] += word[2:]\n",
    "            else:\n",
    "                words.append(word)\n",
    "                labels.append(id2label[int(label_ids[k][i])])\n",
    "        result.append(\n",
    "            {'words': words,\n",
    "             'labels': labels}\n",
    "        )\n",
    "    return result\n",
    "\n",
    "\n",
    "corpus = ['In October 2022, we identified an active infection of government, agriculture\\\n",
    " and transportation organizations located in the Donetsk, Lugansk, and Crimea regions. Although the initial vector of compromise is unclear, the details of the next stage imply the use of spear phishing or similar methods.\\\n",
    " The victims navigated to a URL pointing to a ZIP archive hosted on a malicious web server.'\n",
    "]\n",
    "\n",
    "inputs = tokenizer(corpus, max_length=512, padding=True, truncation=True, return_tensors='pt',\n",
    "                   return_offsets_mapping=True)\n",
    "offset_mapping = inputs.pop(\"offset_mapping\").cpu().numpy().tolist()\n",
    "\n",
    "outputs = model(**inputs)\n",
    "result = decode(outputs[1].numpy().tolist(), inputs['input_ids'].numpy().tolist(), offset_mapping, id2label)\n",
    "for token, label in zip(result[0]['words'], result[0]['labels']):\n",
    "    print(\"{:20}\\t{}\".format(token, label))"
   ]
  },
  {
   "cell_type": "code",
   "execution_count": null,
   "metadata": {
    "id": "UxXnJiOO3GEB"
   },
   "outputs": [],
   "source": [
    "torch.save(model.state_dict(), '/content/drive/MyDrive/Best_Model/model.pth')"
   ]
  },
  {
   "cell_type": "code",
   "execution_count": null,
   "metadata": {
    "colab": {
     "base_uri": "https://localhost:8080/"
    },
    "executionInfo": {
     "elapsed": 4,
     "status": "ok",
     "timestamp": 1695987967765,
     "user": {
      "displayName": "Aravind P C",
      "userId": "14537714054658235030"
     },
     "user_tz": -330
    },
    "id": "I9Pe40oQGwE3",
    "outputId": "5d48769d-1587-40d4-e485-0e17fc4dafc3"
   },
   "outputs": [],
   "source": [
    "model.load_state_dict(torch.load('/content/drive/MyDrive/Best_Model/model.pth'))\n",
    "model.eval()"
   ]
  }
 ],
 "metadata": {
  "accelerator": "GPU",
  "colab": {
   "collapsed_sections": [
    "yuvg7zYA4QRq"
   ],
   "name": "",
   "version": ""
  },
  "kernelspec": {
   "display_name": "Python 3 (ipykernel)",
   "language": "python",
   "name": "python3"
  },
  "language_info": {
   "codemirror_mode": {
    "name": "ipython",
    "version": 3
   },
   "file_extension": ".py",
   "mimetype": "text/x-python",
   "name": "python",
   "nbconvert_exporter": "python",
   "pygments_lexer": "ipython3",
   "version": "3.10.7"
  },
  "widgets": {
   "application/vnd.jupyter.widget-state+json": {
    "02694d31fb3345649ad5ed4c53295c86": {
     "model_module": "@jupyter-widgets/base",
     "model_module_version": "1.2.0",
     "model_name": "LayoutModel",
     "state": {
      "_model_module": "@jupyter-widgets/base",
      "_model_module_version": "1.2.0",
      "_model_name": "LayoutModel",
      "_view_count": null,
      "_view_module": "@jupyter-widgets/base",
      "_view_module_version": "1.2.0",
      "_view_name": "LayoutView",
      "align_content": null,
      "align_items": null,
      "align_self": null,
      "border": null,
      "bottom": null,
      "display": null,
      "flex": null,
      "flex_flow": null,
      "grid_area": null,
      "grid_auto_columns": null,
      "grid_auto_flow": null,
      "grid_auto_rows": null,
      "grid_column": null,
      "grid_gap": null,
      "grid_row": null,
      "grid_template_areas": null,
      "grid_template_columns": null,
      "grid_template_rows": null,
      "height": null,
      "justify_content": null,
      "justify_items": null,
      "left": null,
      "margin": null,
      "max_height": null,
      "max_width": null,
      "min_height": null,
      "min_width": null,
      "object_fit": null,
      "object_position": null,
      "order": null,
      "overflow": null,
      "overflow_x": null,
      "overflow_y": null,
      "padding": null,
      "right": null,
      "top": null,
      "visibility": null,
      "width": null
     }
    },
    "05b19831ccf84b4c8c629005207f6da7": {
     "model_module": "@jupyter-widgets/controls",
     "model_module_version": "1.5.0",
     "model_name": "HTMLModel",
     "state": {
      "_dom_classes": [],
      "_model_module": "@jupyter-widgets/controls",
      "_model_module_version": "1.5.0",
      "_model_name": "HTMLModel",
      "_view_count": null,
      "_view_module": "@jupyter-widgets/controls",
      "_view_module_version": "1.5.0",
      "_view_name": "HTMLView",
      "description": "",
      "description_tooltip": null,
      "layout": "IPY_MODEL_8ec95cea970143daa4dfbf3cc1abf433",
      "placeholder": "​",
      "style": "IPY_MODEL_0e0a3a362e224bb89bdffd2f6eb2bfaf",
      "value": " 1369/1369 [00:01&lt;00:00, 1074.22 examples/s]"
     }
    },
    "0e0a3a362e224bb89bdffd2f6eb2bfaf": {
     "model_module": "@jupyter-widgets/controls",
     "model_module_version": "1.5.0",
     "model_name": "DescriptionStyleModel",
     "state": {
      "_model_module": "@jupyter-widgets/controls",
      "_model_module_version": "1.5.0",
      "_model_name": "DescriptionStyleModel",
      "_view_count": null,
      "_view_module": "@jupyter-widgets/base",
      "_view_module_version": "1.2.0",
      "_view_name": "StyleView",
      "description_width": ""
     }
    },
    "15cc31c23c674fcba7c2c52b48b46620": {
     "model_module": "@jupyter-widgets/controls",
     "model_module_version": "1.5.0",
     "model_name": "HBoxModel",
     "state": {
      "_dom_classes": [],
      "_model_module": "@jupyter-widgets/controls",
      "_model_module_version": "1.5.0",
      "_model_name": "HBoxModel",
      "_view_count": null,
      "_view_module": "@jupyter-widgets/controls",
      "_view_module_version": "1.5.0",
      "_view_name": "HBoxView",
      "box_style": "",
      "children": [
       "IPY_MODEL_85457a2a7bec43e8afb55397106dd326",
       "IPY_MODEL_1673e7f61cb24297a23a4af6676ad0aa",
       "IPY_MODEL_4c16411038894ba4ac93c9bc575af476"
      ],
      "layout": "IPY_MODEL_f8090602522749e4925148f3288c024c"
     }
    },
    "1673e7f61cb24297a23a4af6676ad0aa": {
     "model_module": "@jupyter-widgets/controls",
     "model_module_version": "1.5.0",
     "model_name": "FloatProgressModel",
     "state": {
      "_dom_classes": [],
      "_model_module": "@jupyter-widgets/controls",
      "_model_module_version": "1.5.0",
      "_model_name": "FloatProgressModel",
      "_view_count": null,
      "_view_module": "@jupyter-widgets/controls",
      "_view_module_version": "1.5.0",
      "_view_name": "ProgressView",
      "bar_style": "success",
      "description": "",
      "description_tooltip": null,
      "layout": "IPY_MODEL_22dcd72aeb3949baa2b718eda6d5cbf5",
      "max": 5475,
      "min": 0,
      "orientation": "horizontal",
      "style": "IPY_MODEL_7f37554a98f34aa59045be30442d659f",
      "value": 5475
     }
    },
    "22dcd72aeb3949baa2b718eda6d5cbf5": {
     "model_module": "@jupyter-widgets/base",
     "model_module_version": "1.2.0",
     "model_name": "LayoutModel",
     "state": {
      "_model_module": "@jupyter-widgets/base",
      "_model_module_version": "1.2.0",
      "_model_name": "LayoutModel",
      "_view_count": null,
      "_view_module": "@jupyter-widgets/base",
      "_view_module_version": "1.2.0",
      "_view_name": "LayoutView",
      "align_content": null,
      "align_items": null,
      "align_self": null,
      "border": null,
      "bottom": null,
      "display": null,
      "flex": null,
      "flex_flow": null,
      "grid_area": null,
      "grid_auto_columns": null,
      "grid_auto_flow": null,
      "grid_auto_rows": null,
      "grid_column": null,
      "grid_gap": null,
      "grid_row": null,
      "grid_template_areas": null,
      "grid_template_columns": null,
      "grid_template_rows": null,
      "height": null,
      "justify_content": null,
      "justify_items": null,
      "left": null,
      "margin": null,
      "max_height": null,
      "max_width": null,
      "min_height": null,
      "min_width": null,
      "object_fit": null,
      "object_position": null,
      "order": null,
      "overflow": null,
      "overflow_x": null,
      "overflow_y": null,
      "padding": null,
      "right": null,
      "top": null,
      "visibility": null,
      "width": null
     }
    },
    "2de57ef960bf442296144ba1153aadf0": {
     "model_module": "@jupyter-widgets/controls",
     "model_module_version": "1.5.0",
     "model_name": "ProgressStyleModel",
     "state": {
      "_model_module": "@jupyter-widgets/controls",
      "_model_module_version": "1.5.0",
      "_model_name": "ProgressStyleModel",
      "_view_count": null,
      "_view_module": "@jupyter-widgets/base",
      "_view_module_version": "1.2.0",
      "_view_name": "StyleView",
      "bar_color": null,
      "description_width": ""
     }
    },
    "429d8e69d18741b18a4bc61c6ea6e74a": {
     "model_module": "@jupyter-widgets/controls",
     "model_module_version": "1.5.0",
     "model_name": "FloatProgressModel",
     "state": {
      "_dom_classes": [],
      "_model_module": "@jupyter-widgets/controls",
      "_model_module_version": "1.5.0",
      "_model_name": "FloatProgressModel",
      "_view_count": null,
      "_view_module": "@jupyter-widgets/controls",
      "_view_module_version": "1.5.0",
      "_view_name": "ProgressView",
      "bar_style": "success",
      "description": "",
      "description_tooltip": null,
      "layout": "IPY_MODEL_c568195525f94ae1a4190e35af1a1451",
      "max": 1369,
      "min": 0,
      "orientation": "horizontal",
      "style": "IPY_MODEL_2de57ef960bf442296144ba1153aadf0",
      "value": 1369
     }
    },
    "4c16411038894ba4ac93c9bc575af476": {
     "model_module": "@jupyter-widgets/controls",
     "model_module_version": "1.5.0",
     "model_name": "HTMLModel",
     "state": {
      "_dom_classes": [],
      "_model_module": "@jupyter-widgets/controls",
      "_model_module_version": "1.5.0",
      "_model_name": "HTMLModel",
      "_view_count": null,
      "_view_module": "@jupyter-widgets/controls",
      "_view_module_version": "1.5.0",
      "_view_name": "HTMLView",
      "description": "",
      "description_tooltip": null,
      "layout": "IPY_MODEL_94f435ffd2d04a038b1122647aa3f450",
      "placeholder": "​",
      "style": "IPY_MODEL_e695ec87e8f6439e83c8718259387404",
      "value": " 5475/5475 [00:05&lt;00:00, 936.72 examples/s]"
     }
    },
    "5559e6ed5893452ea6d49e836d8523bc": {
     "model_module": "@jupyter-widgets/base",
     "model_module_version": "1.2.0",
     "model_name": "LayoutModel",
     "state": {
      "_model_module": "@jupyter-widgets/base",
      "_model_module_version": "1.2.0",
      "_model_name": "LayoutModel",
      "_view_count": null,
      "_view_module": "@jupyter-widgets/base",
      "_view_module_version": "1.2.0",
      "_view_name": "LayoutView",
      "align_content": null,
      "align_items": null,
      "align_self": null,
      "border": null,
      "bottom": null,
      "display": null,
      "flex": null,
      "flex_flow": null,
      "grid_area": null,
      "grid_auto_columns": null,
      "grid_auto_flow": null,
      "grid_auto_rows": null,
      "grid_column": null,
      "grid_gap": null,
      "grid_row": null,
      "grid_template_areas": null,
      "grid_template_columns": null,
      "grid_template_rows": null,
      "height": null,
      "justify_content": null,
      "justify_items": null,
      "left": null,
      "margin": null,
      "max_height": null,
      "max_width": null,
      "min_height": null,
      "min_width": null,
      "object_fit": null,
      "object_position": null,
      "order": null,
      "overflow": null,
      "overflow_x": null,
      "overflow_y": null,
      "padding": null,
      "right": null,
      "top": null,
      "visibility": null,
      "width": null
     }
    },
    "7f37554a98f34aa59045be30442d659f": {
     "model_module": "@jupyter-widgets/controls",
     "model_module_version": "1.5.0",
     "model_name": "ProgressStyleModel",
     "state": {
      "_model_module": "@jupyter-widgets/controls",
      "_model_module_version": "1.5.0",
      "_model_name": "ProgressStyleModel",
      "_view_count": null,
      "_view_module": "@jupyter-widgets/base",
      "_view_module_version": "1.2.0",
      "_view_name": "StyleView",
      "bar_color": null,
      "description_width": ""
     }
    },
    "85457a2a7bec43e8afb55397106dd326": {
     "model_module": "@jupyter-widgets/controls",
     "model_module_version": "1.5.0",
     "model_name": "HTMLModel",
     "state": {
      "_dom_classes": [],
      "_model_module": "@jupyter-widgets/controls",
      "_model_module_version": "1.5.0",
      "_model_name": "HTMLModel",
      "_view_count": null,
      "_view_module": "@jupyter-widgets/controls",
      "_view_module_version": "1.5.0",
      "_view_name": "HTMLView",
      "description": "",
      "description_tooltip": null,
      "layout": "IPY_MODEL_02694d31fb3345649ad5ed4c53295c86",
      "placeholder": "​",
      "style": "IPY_MODEL_f202c0716e204ffbbc1ddbb71887599b",
      "value": "Map: 100%"
     }
    },
    "8ec95cea970143daa4dfbf3cc1abf433": {
     "model_module": "@jupyter-widgets/base",
     "model_module_version": "1.2.0",
     "model_name": "LayoutModel",
     "state": {
      "_model_module": "@jupyter-widgets/base",
      "_model_module_version": "1.2.0",
      "_model_name": "LayoutModel",
      "_view_count": null,
      "_view_module": "@jupyter-widgets/base",
      "_view_module_version": "1.2.0",
      "_view_name": "LayoutView",
      "align_content": null,
      "align_items": null,
      "align_self": null,
      "border": null,
      "bottom": null,
      "display": null,
      "flex": null,
      "flex_flow": null,
      "grid_area": null,
      "grid_auto_columns": null,
      "grid_auto_flow": null,
      "grid_auto_rows": null,
      "grid_column": null,
      "grid_gap": null,
      "grid_row": null,
      "grid_template_areas": null,
      "grid_template_columns": null,
      "grid_template_rows": null,
      "height": null,
      "justify_content": null,
      "justify_items": null,
      "left": null,
      "margin": null,
      "max_height": null,
      "max_width": null,
      "min_height": null,
      "min_width": null,
      "object_fit": null,
      "object_position": null,
      "order": null,
      "overflow": null,
      "overflow_x": null,
      "overflow_y": null,
      "padding": null,
      "right": null,
      "top": null,
      "visibility": null,
      "width": null
     }
    },
    "94f435ffd2d04a038b1122647aa3f450": {
     "model_module": "@jupyter-widgets/base",
     "model_module_version": "1.2.0",
     "model_name": "LayoutModel",
     "state": {
      "_model_module": "@jupyter-widgets/base",
      "_model_module_version": "1.2.0",
      "_model_name": "LayoutModel",
      "_view_count": null,
      "_view_module": "@jupyter-widgets/base",
      "_view_module_version": "1.2.0",
      "_view_name": "LayoutView",
      "align_content": null,
      "align_items": null,
      "align_self": null,
      "border": null,
      "bottom": null,
      "display": null,
      "flex": null,
      "flex_flow": null,
      "grid_area": null,
      "grid_auto_columns": null,
      "grid_auto_flow": null,
      "grid_auto_rows": null,
      "grid_column": null,
      "grid_gap": null,
      "grid_row": null,
      "grid_template_areas": null,
      "grid_template_columns": null,
      "grid_template_rows": null,
      "height": null,
      "justify_content": null,
      "justify_items": null,
      "left": null,
      "margin": null,
      "max_height": null,
      "max_width": null,
      "min_height": null,
      "min_width": null,
      "object_fit": null,
      "object_position": null,
      "order": null,
      "overflow": null,
      "overflow_x": null,
      "overflow_y": null,
      "padding": null,
      "right": null,
      "top": null,
      "visibility": null,
      "width": null
     }
    },
    "a94dbc38c95d4a6aab70ce27c93682d9": {
     "model_module": "@jupyter-widgets/base",
     "model_module_version": "1.2.0",
     "model_name": "LayoutModel",
     "state": {
      "_model_module": "@jupyter-widgets/base",
      "_model_module_version": "1.2.0",
      "_model_name": "LayoutModel",
      "_view_count": null,
      "_view_module": "@jupyter-widgets/base",
      "_view_module_version": "1.2.0",
      "_view_name": "LayoutView",
      "align_content": null,
      "align_items": null,
      "align_self": null,
      "border": null,
      "bottom": null,
      "display": null,
      "flex": null,
      "flex_flow": null,
      "grid_area": null,
      "grid_auto_columns": null,
      "grid_auto_flow": null,
      "grid_auto_rows": null,
      "grid_column": null,
      "grid_gap": null,
      "grid_row": null,
      "grid_template_areas": null,
      "grid_template_columns": null,
      "grid_template_rows": null,
      "height": null,
      "justify_content": null,
      "justify_items": null,
      "left": null,
      "margin": null,
      "max_height": null,
      "max_width": null,
      "min_height": null,
      "min_width": null,
      "object_fit": null,
      "object_position": null,
      "order": null,
      "overflow": null,
      "overflow_x": null,
      "overflow_y": null,
      "padding": null,
      "right": null,
      "top": null,
      "visibility": null,
      "width": null
     }
    },
    "bbbea85b2d1441aab0e79f6563abc1e5": {
     "model_module": "@jupyter-widgets/controls",
     "model_module_version": "1.5.0",
     "model_name": "HTMLModel",
     "state": {
      "_dom_classes": [],
      "_model_module": "@jupyter-widgets/controls",
      "_model_module_version": "1.5.0",
      "_model_name": "HTMLModel",
      "_view_count": null,
      "_view_module": "@jupyter-widgets/controls",
      "_view_module_version": "1.5.0",
      "_view_name": "HTMLView",
      "description": "",
      "description_tooltip": null,
      "layout": "IPY_MODEL_5559e6ed5893452ea6d49e836d8523bc",
      "placeholder": "​",
      "style": "IPY_MODEL_c7669f88d1eb49f58200a76d3ab6e4f6",
      "value": "Map: 100%"
     }
    },
    "c568195525f94ae1a4190e35af1a1451": {
     "model_module": "@jupyter-widgets/base",
     "model_module_version": "1.2.0",
     "model_name": "LayoutModel",
     "state": {
      "_model_module": "@jupyter-widgets/base",
      "_model_module_version": "1.2.0",
      "_model_name": "LayoutModel",
      "_view_count": null,
      "_view_module": "@jupyter-widgets/base",
      "_view_module_version": "1.2.0",
      "_view_name": "LayoutView",
      "align_content": null,
      "align_items": null,
      "align_self": null,
      "border": null,
      "bottom": null,
      "display": null,
      "flex": null,
      "flex_flow": null,
      "grid_area": null,
      "grid_auto_columns": null,
      "grid_auto_flow": null,
      "grid_auto_rows": null,
      "grid_column": null,
      "grid_gap": null,
      "grid_row": null,
      "grid_template_areas": null,
      "grid_template_columns": null,
      "grid_template_rows": null,
      "height": null,
      "justify_content": null,
      "justify_items": null,
      "left": null,
      "margin": null,
      "max_height": null,
      "max_width": null,
      "min_height": null,
      "min_width": null,
      "object_fit": null,
      "object_position": null,
      "order": null,
      "overflow": null,
      "overflow_x": null,
      "overflow_y": null,
      "padding": null,
      "right": null,
      "top": null,
      "visibility": null,
      "width": null
     }
    },
    "c7669f88d1eb49f58200a76d3ab6e4f6": {
     "model_module": "@jupyter-widgets/controls",
     "model_module_version": "1.5.0",
     "model_name": "DescriptionStyleModel",
     "state": {
      "_model_module": "@jupyter-widgets/controls",
      "_model_module_version": "1.5.0",
      "_model_name": "DescriptionStyleModel",
      "_view_count": null,
      "_view_module": "@jupyter-widgets/base",
      "_view_module_version": "1.2.0",
      "_view_name": "StyleView",
      "description_width": ""
     }
    },
    "e695ec87e8f6439e83c8718259387404": {
     "model_module": "@jupyter-widgets/controls",
     "model_module_version": "1.5.0",
     "model_name": "DescriptionStyleModel",
     "state": {
      "_model_module": "@jupyter-widgets/controls",
      "_model_module_version": "1.5.0",
      "_model_name": "DescriptionStyleModel",
      "_view_count": null,
      "_view_module": "@jupyter-widgets/base",
      "_view_module_version": "1.2.0",
      "_view_name": "StyleView",
      "description_width": ""
     }
    },
    "efeb2eab84a84fae81ec0a93201e5161": {
     "model_module": "@jupyter-widgets/controls",
     "model_module_version": "1.5.0",
     "model_name": "HBoxModel",
     "state": {
      "_dom_classes": [],
      "_model_module": "@jupyter-widgets/controls",
      "_model_module_version": "1.5.0",
      "_model_name": "HBoxModel",
      "_view_count": null,
      "_view_module": "@jupyter-widgets/controls",
      "_view_module_version": "1.5.0",
      "_view_name": "HBoxView",
      "box_style": "",
      "children": [
       "IPY_MODEL_bbbea85b2d1441aab0e79f6563abc1e5",
       "IPY_MODEL_429d8e69d18741b18a4bc61c6ea6e74a",
       "IPY_MODEL_05b19831ccf84b4c8c629005207f6da7"
      ],
      "layout": "IPY_MODEL_a94dbc38c95d4a6aab70ce27c93682d9"
     }
    },
    "f202c0716e204ffbbc1ddbb71887599b": {
     "model_module": "@jupyter-widgets/controls",
     "model_module_version": "1.5.0",
     "model_name": "DescriptionStyleModel",
     "state": {
      "_model_module": "@jupyter-widgets/controls",
      "_model_module_version": "1.5.0",
      "_model_name": "DescriptionStyleModel",
      "_view_count": null,
      "_view_module": "@jupyter-widgets/base",
      "_view_module_version": "1.2.0",
      "_view_name": "StyleView",
      "description_width": ""
     }
    },
    "f8090602522749e4925148f3288c024c": {
     "model_module": "@jupyter-widgets/base",
     "model_module_version": "1.2.0",
     "model_name": "LayoutModel",
     "state": {
      "_model_module": "@jupyter-widgets/base",
      "_model_module_version": "1.2.0",
      "_model_name": "LayoutModel",
      "_view_count": null,
      "_view_module": "@jupyter-widgets/base",
      "_view_module_version": "1.2.0",
      "_view_name": "LayoutView",
      "align_content": null,
      "align_items": null,
      "align_self": null,
      "border": null,
      "bottom": null,
      "display": null,
      "flex": null,
      "flex_flow": null,
      "grid_area": null,
      "grid_auto_columns": null,
      "grid_auto_flow": null,
      "grid_auto_rows": null,
      "grid_column": null,
      "grid_gap": null,
      "grid_row": null,
      "grid_template_areas": null,
      "grid_template_columns": null,
      "grid_template_rows": null,
      "height": null,
      "justify_content": null,
      "justify_items": null,
      "left": null,
      "margin": null,
      "max_height": null,
      "max_width": null,
      "min_height": null,
      "min_width": null,
      "object_fit": null,
      "object_position": null,
      "order": null,
      "overflow": null,
      "overflow_x": null,
      "overflow_y": null,
      "padding": null,
      "right": null,
      "top": null,
      "visibility": null,
      "width": null
     }
    }
   }
  }
 },
 "nbformat": 4,
 "nbformat_minor": 1
}
