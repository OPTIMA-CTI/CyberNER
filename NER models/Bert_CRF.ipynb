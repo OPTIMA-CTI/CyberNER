{
 "cells": [
  {
   "cell_type": "code",
   "execution_count": null,
   "metadata": {
    "colab": {
     "base_uri": "https://localhost:8080/"
    },
    "executionInfo": {
     "elapsed": 7697,
     "status": "ok",
     "timestamp": 1695988427052,
     "user": {
      "displayName": "Aravind P C",
      "userId": "14537714054658235030"
     },
     "user_tz": -330
    },
    "id": "E7V4Irw-UUYR",
    "outputId": "99fdcb68-a4af-4e20-bb83-66379289effe"
   },
   "outputs": [],
   "source": [
    "import numpy as np\n",
    "import pandas as pd\n",
    "import tensorflow as tf\n",
    "print('Tensorflow version: ', tf.__version__)"
   ]
  },
  {
   "cell_type": "code",
   "execution_count": null,
   "metadata": {
    "colab": {
     "base_uri": "https://localhost:8080/"
    },
    "executionInfo": {
     "elapsed": 2965,
     "status": "ok",
     "timestamp": 1695988430011,
     "user": {
      "displayName": "Aravind P C",
      "userId": "14537714054658235030"
     },
     "user_tz": -330
    },
    "id": "c_edbIXuVLsn",
    "outputId": "7b7af568-90ef-4852-fc89-16c8405bec5e"
   },
   "outputs": [],
   "source": [
    "from google.colab import drive\n",
    "drive.mount('/content/drive')"
   ]
  },
  {
   "cell_type": "code",
   "execution_count": null,
   "metadata": {
    "colab": {
     "base_uri": "https://localhost:8080/",
     "height": 423
    },
    "executionInfo": {
     "elapsed": 656,
     "status": "ok",
     "timestamp": 1695988430663,
     "user": {
      "displayName": "Aravind P C",
      "userId": "14537714054658235030"
     },
     "user_tz": -330
    },
    "id": "g4iVYkiqUXuA",
    "outputId": "fb4ab418-2380-4cb1-fca8-9776d1ca5232"
   },
   "outputs": [],
   "source": [
    "df = pd.read_csv('/content/drive/MyDrive/Mini ProjectRisk Msc DS/Main Project/NER/Dataset/NER dataset.csv', encoding='utf-8')\n",
    "df = df.fillna(method='ffill')\n",
    "df.head(-5)"
   ]
  },
  {
   "cell_type": "code",
   "execution_count": null,
   "metadata": {
    "colab": {
     "base_uri": "https://localhost:8080/"
    },
    "executionInfo": {
     "elapsed": 11,
     "status": "ok",
     "timestamp": 1695988430664,
     "user": {
      "displayName": "Aravind P C",
      "userId": "14537714054658235030"
     },
     "user_tz": -330
    },
    "id": "0xRaYxQpsVNv",
    "outputId": "113e79e7-43ff-439b-f9dd-f6772c49b937"
   },
   "outputs": [],
   "source": [
    "df['Sentence Id'].nunique(), df.Word.nunique(), df.Tag.nunique()"
   ]
  },
  {
   "cell_type": "code",
   "execution_count": null,
   "metadata": {
    "executionInfo": {
     "elapsed": 1318,
     "status": "ok",
     "timestamp": 1695988431974,
     "user": {
      "displayName": "Aravind P C",
      "userId": "14537714054658235030"
     },
     "user_tz": -330
    },
    "id": "1Hao1zyPOe8m"
   },
   "outputs": [],
   "source": [
    "from sklearn import preprocessing\n",
    "le = preprocessing.LabelEncoder()\n",
    "df['ner_tags'] = le.fit_transform(df['Tag'])\n",
    "df['ner_tags'] = df['ner_tags'] + 1"
   ]
  },
  {
   "cell_type": "code",
   "execution_count": null,
   "metadata": {
    "colab": {
     "base_uri": "https://localhost:8080/",
     "height": 833
    },
    "executionInfo": {
     "elapsed": 9,
     "status": "ok",
     "timestamp": 1695988431975,
     "user": {
      "displayName": "Aravind P C",
      "userId": "14537714054658235030"
     },
     "user_tz": -330
    },
    "id": "9alNhDfEsYpI",
    "outputId": "4e4b7d8d-88ee-4158-e701-097cbe5e43c9"
   },
   "outputs": [],
   "source": [
    "df.groupby('ner_tags').size().reset_index(name='counts')"
   ]
  },
  {
   "cell_type": "code",
   "execution_count": null,
   "metadata": {
    "executionInfo": {
     "elapsed": 7,
     "status": "ok",
     "timestamp": 1695988431975,
     "user": {
      "displayName": "Aravind P C",
      "userId": "14537714054658235030"
     },
     "user_tz": -330
    },
    "id": "z-bP7ZTq9EOn"
   },
   "outputs": [],
   "source": [
    "class SentenceGetter(object):\n",
    "\n",
    "    def __init__(self, data):\n",
    "        self.n_sent = 1\n",
    "        self.data = data\n",
    "        self.empty = False\n",
    "        agg_func = lambda s: [(w, t) for w, t in zip(s[\"Word\"].values.tolist(),\n",
    "                                                           s[\"ner_tags\"].values.tolist())]\n",
    "        self.grouped = self.data.groupby(\"Sentence Id\").apply(agg_func)\n",
    "        self.sentences = [s for s in self.grouped]\n",
    "\n",
    "    def get_next(self):\n",
    "        try:\n",
    "            s = self.grouped[\"{}\".format(self.n_sent)]\n",
    "            self.n_sent += 1\n",
    "            return s\n",
    "        except:\n",
    "            return None"
   ]
  },
  {
   "cell_type": "code",
   "execution_count": null,
   "metadata": {
    "executionInfo": {
     "elapsed": 409,
     "status": "ok",
     "timestamp": 1695988432377,
     "user": {
      "displayName": "Aravind P C",
      "userId": "14537714054658235030"
     },
     "user_tz": -330
    },
    "id": "wX4g4thk9EOn"
   },
   "outputs": [],
   "source": [
    "getter = SentenceGetter(df)"
   ]
  },
  {
   "cell_type": "code",
   "execution_count": null,
   "metadata": {
    "colab": {
     "base_uri": "https://localhost:8080/"
    },
    "executionInfo": {
     "elapsed": 881,
     "status": "ok",
     "timestamp": 1695988433253,
     "user": {
      "displayName": "Aravind P C",
      "userId": "14537714054658235030"
     },
     "user_tz": -330
    },
    "id": "7xC_wcmZ9EOo",
    "outputId": "9f0a0fff-b2e1-4da0-cdcb-53646f330cfd"
   },
   "outputs": [],
   "source": [
    "sentences = [[word[0] for word in sentence] for sentence in getter.sentences]\n",
    "sentences[0]"
   ]
  },
  {
   "cell_type": "code",
   "execution_count": null,
   "metadata": {
    "colab": {
     "base_uri": "https://localhost:8080/"
    },
    "executionInfo": {
     "elapsed": 45,
     "status": "ok",
     "timestamp": 1695988433253,
     "user": {
      "displayName": "Aravind P C",
      "userId": "14537714054658235030"
     },
     "user_tz": -330
    },
    "id": "LGrUE5qu9EOo",
    "outputId": "179faf8f-6c39-4314-85ee-86bf56ed3861"
   },
   "outputs": [],
   "source": [
    "labels = [[s[1] for s in sentence] for sentence in getter.sentences]\n",
    "print(labels[0])"
   ]
  },
  {
   "cell_type": "code",
   "execution_count": null,
   "metadata": {
    "executionInfo": {
     "elapsed": 43,
     "status": "ok",
     "timestamp": 1695988433253,
     "user": {
      "displayName": "Aravind P C",
      "userId": "14537714054658235030"
     },
     "user_tz": -330
    },
    "id": "ErlG17qQeSxE"
   },
   "outputs": [],
   "source": [
    "def split_tokens_and_labels(tokens_list, labels_list, max_length=75):\n",
    "    new_tokens_list = []\n",
    "    new_labels_list = []\n",
    "\n",
    "    for tokens, labels in zip(tokens_list, labels_list):\n",
    "        if len(tokens) <= max_length:\n",
    "            new_tokens_list.append(tokens)\n",
    "            new_labels_list.append(labels)\n",
    "        else:\n",
    "            start = 0\n",
    "            end = max_length\n",
    "            while start < len(tokens):\n",
    "                new_tokens_list.append(tokens[start:end])\n",
    "                new_labels_list.append(labels[start:end])\n",
    "                start = end\n",
    "                end = start + max_length\n",
    "\n",
    "    return new_tokens_list, new_labels_list\n",
    "\n"
   ]
  },
  {
   "cell_type": "code",
   "execution_count": null,
   "metadata": {
    "executionInfo": {
     "elapsed": 43,
     "status": "ok",
     "timestamp": 1695988433254,
     "user": {
      "displayName": "Aravind P C",
      "userId": "14537714054658235030"
     },
     "user_tz": -330
    },
    "id": "GOLV6H94fmcc"
   },
   "outputs": [],
   "source": [
    "new_tokens_list, new_labels_list = split_tokens_and_labels(sentences, labels, max_length=75)"
   ]
  },
  {
   "cell_type": "markdown",
   "metadata": {
    "id": "Q81Xs4CK9EOo"
   },
   "source": [
    "### Preprocess the sentence and labels. Prepare to use with pytorch and bert"
   ]
  },
  {
   "cell_type": "code",
   "execution_count": null,
   "metadata": {
    "colab": {
     "base_uri": "https://localhost:8080/"
    },
    "executionInfo": {
     "elapsed": 10621,
     "status": "ok",
     "timestamp": 1695988443868,
     "user": {
      "displayName": "Aravind P C",
      "userId": "14537714054658235030"
     },
     "user_tz": -330
    },
    "id": "K9G_qljfJBJJ",
    "outputId": "faa46c8a-29f8-4def-fed7-f3d042dfeb1a"
   },
   "outputs": [],
   "source": [
    "pip install transformers"
   ]
  },
  {
   "cell_type": "code",
   "execution_count": null,
   "metadata": {
    "executionInfo": {
     "elapsed": 16309,
     "status": "ok",
     "timestamp": 1695988460172,
     "user": {
      "displayName": "Aravind P C",
      "userId": "14537714054658235030"
     },
     "user_tz": -330
    },
    "id": "_M-1f3cBDK9F"
   },
   "outputs": [],
   "source": [
    "pip install pytorch-crf"
   ]
  },
  {
   "cell_type": "code",
   "execution_count": null,
   "metadata": {
    "executionInfo": {
     "elapsed": 12,
     "status": "ok",
     "timestamp": 1695988460172,
     "user": {
      "displayName": "Aravind P C",
      "userId": "14537714054658235030"
     },
     "user_tz": -330
    },
    "id": "SWsH9DZ09EOp"
   },
   "outputs": [],
   "source": [
    "# @title\n",
    "from transformers import BertPreTrainedModel, BertModel\n",
    "from transformers.modeling_outputs import  TokenClassifierOutput\n",
    "from torch import nn\n",
    "from torch.nn import CrossEntropyLoss\n",
    "import torch\n",
    "from torchcrf import CRF"
   ]
  },
  {
   "cell_type": "code",
   "execution_count": null,
   "metadata": {
    "executionInfo": {
     "elapsed": 11,
     "status": "ok",
     "timestamp": 1695988460172,
     "user": {
      "displayName": "Aravind P C",
      "userId": "14537714054658235030"
     },
     "user_tz": -330
    },
    "id": "Lg8YJppDDBee"
   },
   "outputs": [],
   "source": [
    "# @title\n",
    "class BertCRF(BertPreTrainedModel):\n",
    "\n",
    "    _keys_to_ignore_on_load_unexpected = [r\"pooler\"]\n",
    "\n",
    "    def __init__(self, config):\n",
    "        super().__init__(config)\n",
    "        self.num_labels = config.num_labels\n",
    "\n",
    "        self.bert = BertModel(config, add_pooling_layer=False)\n",
    "        self.dropout = nn.Dropout(config.hidden_dropout_prob)\n",
    "        self.classifier = nn.Linear(config.hidden_size, config.num_labels)\n",
    "        self.crf = CRF(num_tags=config.num_labels, batch_first=True)\n",
    "        self.init_weights()\n",
    "\n",
    "    def forward(\n",
    "        self,\n",
    "        input_ids=None,\n",
    "        attention_mask=None,\n",
    "        token_type_ids=None,\n",
    "        position_ids=None,\n",
    "        head_mask=None,\n",
    "        inputs_embeds=None,\n",
    "        labels=None,\n",
    "        output_attentions=None,\n",
    "        output_hidden_states=None,\n",
    "        return_dict=None,\n",
    "    ):\n",
    "        r\"\"\"\n",
    "        labels (:obj:`torch.LongTensor` of shape :obj:`(batch_size, sequence_length)`, `optional`):\n",
    "            Labels for computing the token classification loss. Indices should be in ``[0, ..., config.num_labels -\n",
    "            1]``.\n",
    "        \"\"\"\n",
    "        return_dict = return_dict if return_dict is not None else self.config.use_return_dict\n",
    "\n",
    "        outputs = self.bert(\n",
    "            input_ids,\n",
    "            attention_mask=attention_mask,\n",
    "            token_type_ids=token_type_ids,\n",
    "            position_ids=position_ids,\n",
    "            head_mask=head_mask,\n",
    "            inputs_embeds=inputs_embeds,\n",
    "            output_attentions=output_attentions,\n",
    "            output_hidden_states=output_hidden_states,\n",
    "            return_dict=return_dict,\n",
    "        )\n",
    "\n",
    "        sequence_output = outputs[0]\n",
    "        sequence_output = self.dropout(sequence_output)\n",
    "        logits = self.classifier(sequence_output)\n",
    "\n",
    "        loss = None\n",
    "        if labels is not None:\n",
    "            log_likelihood, tags = self.crf(logits, labels), self.crf.decode(logits)\n",
    "            loss = 0 - log_likelihood\n",
    "        else:\n",
    "            tags = self.crf.decode(logits)\n",
    "        tags = torch.Tensor(tags)\n",
    "\n",
    "        if not return_dict:\n",
    "            output = (tags,) + outputs[2:]\n",
    "            return ((loss,) + output) if loss is not None else output\n",
    "\n",
    "        return loss, tags"
   ]
  },
  {
   "cell_type": "code",
   "execution_count": null,
   "metadata": {
    "colab": {
     "base_uri": "https://localhost:8080/"
    },
    "executionInfo": {
     "elapsed": 8453,
     "status": "ok",
     "timestamp": 1695988468615,
     "user": {
      "displayName": "Aravind P C",
      "userId": "14537714054658235030"
     },
     "user_tz": -330
    },
    "id": "fvP6sYCpKQGR",
    "outputId": "1447e66d-6f5b-4156-da2e-cd37c474b1d1"
   },
   "outputs": [],
   "source": [
    "!pip install datasets\n",
    "!pip install transformers[torch]\n",
    "!pip install accelerate>=0.20.1"
   ]
  },
  {
   "cell_type": "code",
   "execution_count": null,
   "metadata": {
    "executionInfo": {
     "elapsed": 1600,
     "status": "ok",
     "timestamp": 1695988470211,
     "user": {
      "displayName": "Aravind P C",
      "userId": "14537714054658235030"
     },
     "user_tz": -330
    },
    "id": "wk-ZSrYKKQtx"
   },
   "outputs": [],
   "source": [
    "from datasets import Dataset\n",
    "data = {\n",
    "    'tokens': new_tokens_list,\n",
    "    'ner_tags': new_labels_list\n",
    "}\n",
    "dataset = Dataset.from_dict(data)"
   ]
  },
  {
   "cell_type": "code",
   "execution_count": null,
   "metadata": {
    "executionInfo": {
     "elapsed": 4,
     "status": "ok",
     "timestamp": 1695988470211,
     "user": {
      "displayName": "Aravind P C",
      "userId": "14537714054658235030"
     },
     "user_tz": -330
    },
    "id": "L7XfK7c5Dad9"
   },
   "outputs": [],
   "source": [
    "from sklearn.metrics import classification_report, f1_score\n",
    "from transformers import BertTokenizerFast, Trainer, TrainingArguments,BertTokenizer\n",
    "from transformers.trainer_utils import IntervalStrategy\n",
    "from sklearn.model_selection import train_test_split\n",
    "\n",
    "\n",
    "train_dataset, test_dataset = train_test_split(dataset, test_size = 0.2, random_state = 2018)\n",
    "train_dataset = Dataset.from_dict(train_dataset)\n",
    "test_dataset = Dataset.from_dict(test_dataset)\n",
    "\n",
    "train_dataset = train_dataset.rename_column('ner_tags', 'label_ids')\n",
    "test_dataset = test_dataset.rename_column('ner_tags', 'label_ids')"
   ]
  },
  {
   "cell_type": "code",
   "execution_count": null,
   "metadata": {
    "colab": {
     "base_uri": "https://localhost:8080/"
    },
    "executionInfo": {
     "elapsed": 1559,
     "status": "ok",
     "timestamp": 1695988471767,
     "user": {
      "displayName": "Aravind P C",
      "userId": "14537714054658235030"
     },
     "user_tz": -330
    },
    "id": "NE3zT-jBV0r6",
    "outputId": "efd1fada-3d44-4cc0-9ea2-e5ee8cd05cff"
   },
   "outputs": [],
   "source": [
    "model = BertCRF.from_pretrained('bert-base-cased', num_labels=26)\n",
    "tokenizer = BertTokenizerFast.from_pretrained('bert-base-cased')"
   ]
  },
  {
   "cell_type": "code",
   "execution_count": null,
   "metadata": {
    "colab": {
     "base_uri": "https://localhost:8080/",
     "height": 118,
     "referenced_widgets": [
      "8507953f68474e95a46895367993207a",
      "1cd0307d28b44ed6a6135af79a23d53e",
      "f49ea69fecf84b2cbb916466ede47ded",
      "3e7798ee687e42ddbf7a78c8fc73d3d2",
      "4bd88d1703e54cd881fd93cb21776a95",
      "bd8c0c0bd2314b5c87a69637f279a8e5",
      "d955d175bd5a49baae4c37469e73f8f8",
      "1808f5c52efa4eae8e1fc03d92962417",
      "587bd54cd8664004b7e4222f477e34d0",
      "3f0cbc15db8340bba9965afa34cba120",
      "97add4d91b57487bafbf5f4425ca65a9",
      "ff8faa1b05024c249a57d1980434ac52",
      "5692d6e103f74c2caa5d259e89858641",
      "fedb31c065e2417e832e93fc7dbe9a08",
      "a81447b55d284a3598a484b481bacc87",
      "fce517842cc645138f3555ee54056b31",
      "6998dd3ab42a40218f67e2d5712ed191",
      "b2ac734267f64aefa9ba53369ee3410b",
      "90905e52290649c28cbda998c29faea5",
      "fb6e26b33ac4448f8c2380cce1d30188",
      "80c4c81029bf45c78684ba1a0b468539",
      "7488340f76914e50af081b8f29f216d6"
     ]
    },
    "executionInfo": {
     "elapsed": 6055,
     "status": "ok",
     "timestamp": 1695988477815,
     "user": {
      "displayName": "Aravind P C",
      "userId": "14537714054658235030"
     },
     "user_tz": -330
    },
    "id": "svBk1BHAEc-S",
    "outputId": "c0ff0d7c-2db4-4d20-e2ee-a9d9f34085dd"
   },
   "outputs": [],
   "source": [
    "def tokenize(batch):\n",
    "    result = {\n",
    "        'label_ids': [],\n",
    "        'input_ids': [],\n",
    "        'token_type_ids': [],\n",
    "    }\n",
    "    max_length = tokenizer.max_model_input_sizes['bert-base-cased']\n",
    "\n",
    "    for tokens, label in zip(batch['tokens'], batch['label_ids']):\n",
    "        tokenids = tokenizer(tokens, add_special_tokens=False)\n",
    "\n",
    "        token_ids = []\n",
    "        label_ids = []\n",
    "        for ids, lab in zip(tokenids['input_ids'], label):\n",
    "            #lab = int(lab)  # Convert lab to an integer\n",
    "            if len(ids) > 1 and lab % 2 == 1:\n",
    "                token_ids.extend(ids)\n",
    "                chunk = [lab] * len(ids)\n",
    "                chunk[0] = lab\n",
    "                label_ids.extend(chunk)\n",
    "            else:\n",
    "                token_ids.extend(ids)\n",
    "                chunk = [lab] * len(ids)\n",
    "                label_ids.extend(chunk)\n",
    "\n",
    "        token_type_ids = tokenizer.create_token_type_ids_from_sequences(token_ids)\n",
    "        token_ids = tokenizer.build_inputs_with_special_tokens(token_ids)\n",
    "        label_ids.insert(0, 0)\n",
    "        label_ids.append(0)\n",
    "        result['input_ids'].append(token_ids)\n",
    "        result['label_ids'].append(label_ids)\n",
    "        result['token_type_ids'].append(token_type_ids)\n",
    "\n",
    "    result = tokenizer.pad(result, padding='longest', max_length=max_length, return_attention_mask=True, )\n",
    "    for i in range(len(result['input_ids'])):\n",
    "        diff = len(result['input_ids'][i]) - len(result['label_ids'][i])\n",
    "        result['label_ids'][i] += [0] * diff\n",
    "    return result\n",
    "\n",
    "\n",
    "train_dataset = train_dataset.map(tokenize, batched=True, batch_size=len(train_dataset))\n",
    "test_dataset = test_dataset.map(tokenize, batched=True, batch_size=len(test_dataset))\n",
    "train_dataset.set_format('torch', columns=['input_ids', 'token_type_ids', 'attention_mask', 'label_ids'])\n",
    "test_dataset.set_format('torch', columns=['input_ids', 'token_type_ids', 'attention_mask', 'label_ids'])\n",
    "\n",
    "\n",
    "def compute_metrics(pred):\n",
    "    labels = pred.label_ids.flatten()\n",
    "    preds = pred.predictions.flatten()\n",
    "    f1 = f1_score(labels, preds, average='macro')\n",
    "    print(classification_report(labels, preds))\n",
    "    return {\n",
    "        'f1': f1\n",
    "    }\n"
   ]
  },
  {
   "cell_type": "markdown",
   "metadata": {},
   "source": [
    "## Training"
   ]
  },
  {
   "cell_type": "code",
   "execution_count": null,
   "metadata": {
    "colab": {
     "base_uri": "https://localhost:8080/",
     "height": 1000
    },
    "executionInfo": {
     "elapsed": 501136,
     "status": "ok",
     "timestamp": 1695988978948,
     "user": {
      "displayName": "Aravind P C",
      "userId": "14537714054658235030"
     },
     "user_tz": -330
    },
    "id": "eBh2XznnULmZ",
    "outputId": "7918f7d5-e799-4cd3-8fbb-196f1712d23e"
   },
   "outputs": [],
   "source": [
    "from transformers import TrainingArguments, Trainer, AdamW, get_scheduler, EarlyStoppingCallback\n",
    "\n",
    "\n",
    "learning_rate = 3e-5\n",
    "optimizer = AdamW(\n",
    "    model.parameters(),\n",
    "    lr=learning_rate,\n",
    "    weight_decay=0.01,\n",
    ")\n",
    "\n",
    "num_warmup_steps = 200\n",
    "\n",
    "scheduler = get_scheduler(\n",
    "    \"linear\",\n",
    "    optimizer,\n",
    "    num_warmup_steps=num_warmup_steps,\n",
    "    num_training_steps=len(train_dataset) // 64 * 3,\n",
    ")\n",
    "\n",
    "model.optimizer = optimizer\n",
    "model.lr_scheduler = scheduler\n",
    "\n",
    "training_args = TrainingArguments(\n",
    "    output_dir='./results',\n",
    "    num_train_epochs=1,\n",
    "    per_device_train_batch_size=16,\n",
    "    per_device_eval_batch_size=16,\n",
    "\n",
    "    save_strategy=IntervalStrategy.EPOCH,\n",
    "    evaluation_strategy=IntervalStrategy.EPOCH,\n",
    "    logging_dir='./logs',\n",
    "\n",
    "    load_best_model_at_end=True,\n",
    "    metric_for_best_model=\"eval_loss\",\n",
    "    greater_is_better=False, \n",
    "    report_to=\"tensorboard\", \n",
    "    run_name=\"my_experiment\",\n",
    ")\n",
    "\n",
    "trainer = Trainer(\n",
    "    model=model,\n",
    "    args=training_args,\n",
    "    compute_metrics=compute_metrics,\n",
    "    train_dataset=train_dataset,\n",
    "    eval_dataset=test_dataset,\n",
    "    callbacks=[EarlyStoppingCallback(early_stopping_patience=3)], \n",
    ")\n",
    "\n",
    "\n",
    "trainer.train()\n",
    "\n",
    "results = trainer.evaluate()\n",
    "print(results)\n"
   ]
  },
  {
   "cell_type": "markdown",
   "metadata": {
    "id": "LiqeS-sR4G9_"
   },
   "source": [
    "# Test Data"
   ]
  },
  {
   "cell_type": "code",
   "execution_count": null,
   "metadata": {
    "executionInfo": {
     "elapsed": 14308,
     "status": "ok",
     "timestamp": 1695988993252,
     "user": {
      "displayName": "Aravind P C",
      "userId": "14537714054658235030"
     },
     "user_tz": -330
    },
    "id": "ALD_90ULN6_o"
   },
   "outputs": [],
   "source": [
    "device = torch.device(\"cuda\" if torch.cuda.is_available() else \"cpu\")\n",
    "\n",
    "true_label = []\n",
    "predictions = []\n",
    "model.to(device)\n",
    "        \n",
    "with torch.no_grad():\n",
    "            \n",
    "  outputs = model(test_dataset['input_ids'].to(device), token_type_ids=None,\n",
    "                            attention_mask=test_dataset['attention_mask'].to(device), labels=test_dataset['label_ids'].to(device))\n",
    "      \n",
    "logits = outputs[1].detach().cpu().numpy()\n",
    "label_ids = test_dataset['label_ids'].to('cpu').numpy()\n",
    "\n",
    "predictions = list(logits.flatten())\n",
    "true_label = list(label_ids.flatten())"
   ]
  },
  {
   "cell_type": "code",
   "execution_count": null,
   "metadata": {
    "executionInfo": {
     "elapsed": 16,
     "status": "ok",
     "timestamp": 1695989075281,
     "user": {
      "displayName": "Aravind P C",
      "userId": "14537714054658235030"
     },
     "user_tz": -330
    },
    "id": "tWt3R073ZtOO"
   },
   "outputs": [],
   "source": [
    "pred_tags = [p for p, l in zip(predictions, true_label) if l!=0 and p!=0]\n",
    "true_test_tags = [l for p, l in zip(predictions, true_label) if l!=0 and p!=0]"
   ]
  },
  {
   "cell_type": "code",
   "execution_count": null,
   "metadata": {
    "executionInfo": {
     "elapsed": 3,
     "status": "ok",
     "timestamp": 1695989075281,
     "user": {
      "displayName": "Aravind P C",
      "userId": "14537714054658235030"
     },
     "user_tz": -330
    },
    "id": "hgh-DNKj173_"
   },
   "outputs": [],
   "source": [
    "pred_ = [int(x - 1) for x in pred_tags]\n",
    "true_ = [int(x - 1) for x in true_test_tags]"
   ]
  },
  {
   "cell_type": "code",
   "execution_count": null,
   "metadata": {
    "executionInfo": {
     "elapsed": 3,
     "status": "ok",
     "timestamp": 1695989076109,
     "user": {
      "displayName": "Aravind P C",
      "userId": "14537714054658235030"
     },
     "user_tz": -330
    },
    "id": "c0chgi3Y3AYU"
   },
   "outputs": [],
   "source": [
    "pred_ = le.inverse_transform(pred_)\n",
    "true_ = le.inverse_transform(true_)"
   ]
  },
  {
   "cell_type": "code",
   "execution_count": null,
   "metadata": {
    "executionInfo": {
     "elapsed": 3,
     "status": "ok",
     "timestamp": 1695989085959,
     "user": {
      "displayName": "Aravind P C",
      "userId": "14537714054658235030"
     },
     "user_tz": -330
    },
    "id": "uUfOc4DKPEZS"
   },
   "outputs": [],
   "source": [
    "p = []\n",
    "t = []\n",
    "for i in pred_:\n",
    "  if i == 'O':\n",
    "    p.append(i)\n",
    "  else:\n",
    "    p.append(i[2:])\n",
    "\n",
    "for i in true_:\n",
    "  if i == 'O':\n",
    "    t.append(i)\n",
    "  else:\n",
    "    t.append(i[2:])"
   ]
  },
  {
   "cell_type": "code",
   "execution_count": null,
   "metadata": {
    "colab": {
     "base_uri": "https://localhost:8080/"
    },
    "executionInfo": {
     "elapsed": 3998,
     "status": "ok",
     "timestamp": 1695989094023,
     "user": {
      "displayName": "Aravind P C",
      "userId": "14537714054658235030"
     },
     "user_tz": -330
    },
    "id": "YOUbWdJsRYmG",
    "outputId": "850800df-fadd-4314-bfeb-3628b0062133"
   },
   "outputs": [],
   "source": [
    "from sklearn.metrics import classification_report\n",
    "print(classification_report(true_, pred_))"
   ]
  },
  {
   "cell_type": "code",
   "execution_count": null,
   "metadata": {
    "colab": {
     "base_uri": "https://localhost:8080/"
    },
    "executionInfo": {
     "elapsed": 396,
     "status": "ok",
     "timestamp": 1695989096155,
     "user": {
      "displayName": "Aravind P C",
      "userId": "14537714054658235030"
     },
     "user_tz": -330
    },
    "id": "Nt_KqIT2PjRN",
    "outputId": "94d7354d-ea6e-4934-f8d3-7e230e3b842e"
   },
   "outputs": [],
   "source": [
    "from sklearn.metrics import classification_report\n",
    "print(classification_report(t, p))"
   ]
  },
  {
   "cell_type": "code",
   "execution_count": null,
   "metadata": {
    "colab": {
     "base_uri": "https://localhost:8080/"
    },
    "executionInfo": {
     "elapsed": 1219,
     "status": "ok",
     "timestamp": 1695989102150,
     "user": {
      "displayName": "Aravind P C",
      "userId": "14537714054658235030"
     },
     "user_tz": -330
    },
    "id": "oq3KAmgJW0Qv",
    "outputId": "69079f8c-b697-4f22-890d-59fdf700d9f6"
   },
   "outputs": [],
   "source": [
    "report = classification_report(t, p, digits=4, output_dict=True)\n",
    "f1_weighted = report['weighted avg']['f1-score']\n",
    "\n",
    "recall_weighted = report['weighted avg']['recall']\n",
    "precision_weighted = report['weighted avg']['precision']\n",
    "\n",
    "# Print the results\n",
    "\n",
    "print ('Weighted F1 Score: ', f1_weighted)\n",
    "print ('Weighted Recall: ', recall_weighted)\n",
    "print ('Weighted Precision: ', precision_weighted)"
   ]
  },
  {
   "cell_type": "code",
   "execution_count": null,
   "metadata": {
    "colab": {
     "base_uri": "https://localhost:8080/"
    },
    "executionInfo": {
     "elapsed": 1048,
     "status": "ok",
     "timestamp": 1695989113067,
     "user": {
      "displayName": "Aravind P C",
      "userId": "14537714054658235030"
     },
     "user_tz": -330
    },
    "id": "S62j1zFYXNjg",
    "outputId": "e6547e45-c630-4122-c6ac-569bf28e1275"
   },
   "outputs": [],
   "source": [
    "report = classification_report(t, p, digits=4, output_dict=True)\n",
    "f1_weighted = report['macro avg']['f1-score']\n",
    "\n",
    "recall_weighted = report['macro avg']['recall']\n",
    "precision_weighted = report['macro avg']['precision']\n",
    "\n",
    "# Print the results\n",
    "\n",
    "print ('Macro F1 Score: ', f1_weighted)\n",
    "print ('Macro Recall: ', recall_weighted)\n",
    "print ('Macro Precision: ', precision_weighted)"
   ]
  },
  {
   "cell_type": "code",
   "execution_count": null,
   "metadata": {
    "colab": {
     "base_uri": "https://localhost:8080/",
     "height": 1000
    },
    "executionInfo": {
     "elapsed": 1521,
     "status": "ok",
     "timestamp": 1695990683077,
     "user": {
      "displayName": "Aravind P C",
      "userId": "14537714054658235030"
     },
     "user_tz": -330
    },
    "id": "HjmpROE469gx",
    "outputId": "643b4978-4f28-432b-9b91-3978313beb4d"
   },
   "outputs": [],
   "source": [
    "import matplotlib.pyplot as plt\n",
    "from sklearn.metrics import confusion_matrix\n",
    "import seaborn as sns\n",
    "import pandas as pd\n",
    "\n",
    "cm_array = confusion_matrix(t, p)\n",
    "\n",
    "cm_normalized = cm_array.astype('float') / cm_array.sum(axis=1)[:, np.newaxis]\n",
    "fig, ax = plt.subplots(figsize=(10, 10))\n",
    "\n",
    "cm_array_df = pd.DataFrame(cm_normalized, index=np.unique(p), columns=np.unique(p))\n",
    "annot_font_size = 14 \n",
    "annot_kws = {'size': annot_font_size}\n",
    "\n",
    "sns.heatmap(cm_array_df, annot=True, cbar=False, fmt='.2f', cmap='Blues', ax=ax, annot_kws=annot_kws)\n",
    "ax.set_xlabel('Predicted', fontsize=15)\n",
    "ax.set_ylabel('Actual', fontsize=15)\n",
    "ax.set_xticklabels(ax.get_xticklabels(), fontsize=15)  \n",
    "ax.set_yticklabels(ax.get_yticklabels(), fontsize=15)\n",
    "plt.show()\n"
   ]
  },
  {
   "cell_type": "markdown",
   "metadata": {
    "id": "yuvg7zYA4QRq"
   },
   "source": [
    "# Case Study"
   ]
  },
  {
   "cell_type": "code",
   "execution_count": null,
   "metadata": {
    "executionInfo": {
     "elapsed": 2,
     "status": "ok",
     "timestamp": 1695989406853,
     "user": {
      "displayName": "Aravind P C",
      "userId": "14537714054658235030"
     },
     "user_tz": -330
    },
    "id": "gDeEzESgMEyO"
   },
   "outputs": [],
   "source": [
    "lis = list(range(25))\n",
    "id2label = list(le.inverse_transform(lis))\n",
    "id2label.insert(0,'[PAD]')"
   ]
  },
  {
   "cell_type": "code",
   "execution_count": null,
   "metadata": {
    "colab": {
     "base_uri": "https://localhost:8080/"
    },
    "executionInfo": {
     "elapsed": 4404,
     "status": "ok",
     "timestamp": 1695989418398,
     "user": {
      "displayName": "Aravind P C",
      "userId": "14537714054658235030"
     },
     "user_tz": -330
    },
    "id": "s839DrEN6GEf",
    "outputId": "c0d1cdf7-c86d-43b9-ab12-b359698f5c75"
   },
   "outputs": [],
   "source": [
    "model1 = BertCRF.from_pretrained('./results/checkpoint-343', num_labels=26)\n",
    "tokenizer = BertTokenizerFast.from_pretrained('bert-base-cased')\n",
    "\n",
    "def decode(label_ids, input_ids, offsets_mapping, id2label):\n",
    "    result = []\n",
    "    for k in range(len(label_ids)):\n",
    "        words = []\n",
    "        labels = []\n",
    "        for i in range(len(label_ids[k])):\n",
    "            start_ind, end_ind = offset_mapping[k][i]\n",
    "            word = tokenizer.convert_ids_to_tokens([int(input_ids[k][i])])[0]\n",
    "            is_subword = end_ind - start_ind != len(word)\n",
    "            if is_subword:\n",
    "                if word.startswith('##'):\n",
    "                    words[-1] += word[2:]\n",
    "            else:\n",
    "                words.append(word)\n",
    "                labels.append(id2label[int(label_ids[k][i])])\n",
    "        result.append(\n",
    "            {'words': words,\n",
    "             'labels': labels}\n",
    "        )\n",
    "    return result\n",
    "\n",
    "\n",
    "corpus = ['In October 2022, we identified an active infection of government, agriculture\\\n",
    " and transportation organizations located in the Donetsk, Lugansk, and Crimea regions. Although the initial vector of compromise is unclear, the details of the next stage imply the use of spear phishing or similar methods.\\\n",
    " The victims navigated to a URL pointing to a ZIP archive hosted on a malicious web server.'\n",
    "]\n",
    "\n",
    "inputs = tokenizer(corpus, max_length=512, padding=True, truncation=True, return_tensors='pt',\n",
    "                   return_offsets_mapping=True)\n",
    "offset_mapping = inputs.pop(\"offset_mapping\").cpu().numpy().tolist()\n",
    "\n",
    "outputs = model1(**inputs)\n",
    "result = decode(outputs[1].numpy().tolist(), inputs['input_ids'].numpy().tolist(), offset_mapping, id2label)\n",
    "for token, label in zip(result[0]['words'], result[0]['labels']):\n",
    "    print(\"{:20}\\t{}\".format(token, label))"
   ]
  }
 ],
 "metadata": {
  "accelerator": "GPU",
  "colab": {
   "gpuType": "T4",
   "provenance": []
  },
  "kernelspec": {
   "display_name": "Python 3 (ipykernel)",
   "language": "python",
   "name": "python3"
  },
  "language_info": {
   "codemirror_mode": {
    "name": "ipython",
    "version": 3
   },
   "file_extension": ".py",
   "mimetype": "text/x-python",
   "name": "python",
   "nbconvert_exporter": "python",
   "pygments_lexer": "ipython3",
   "version": "3.10.7"
  },
  "widgets": {
   "application/vnd.jupyter.widget-state+json": {
    "1808f5c52efa4eae8e1fc03d92962417": {
     "model_module": "@jupyter-widgets/base",
     "model_module_version": "1.2.0",
     "model_name": "LayoutModel",
     "state": {
      "_model_module": "@jupyter-widgets/base",
      "_model_module_version": "1.2.0",
      "_model_name": "LayoutModel",
      "_view_count": null,
      "_view_module": "@jupyter-widgets/base",
      "_view_module_version": "1.2.0",
      "_view_name": "LayoutView",
      "align_content": null,
      "align_items": null,
      "align_self": null,
      "border": null,
      "bottom": null,
      "display": null,
      "flex": null,
      "flex_flow": null,
      "grid_area": null,
      "grid_auto_columns": null,
      "grid_auto_flow": null,
      "grid_auto_rows": null,
      "grid_column": null,
      "grid_gap": null,
      "grid_row": null,
      "grid_template_areas": null,
      "grid_template_columns": null,
      "grid_template_rows": null,
      "height": null,
      "justify_content": null,
      "justify_items": null,
      "left": null,
      "margin": null,
      "max_height": null,
      "max_width": null,
      "min_height": null,
      "min_width": null,
      "object_fit": null,
      "object_position": null,
      "order": null,
      "overflow": null,
      "overflow_x": null,
      "overflow_y": null,
      "padding": null,
      "right": null,
      "top": null,
      "visibility": null,
      "width": null
     }
    },
    "1cd0307d28b44ed6a6135af79a23d53e": {
     "model_module": "@jupyter-widgets/controls",
     "model_module_version": "1.5.0",
     "model_name": "HTMLModel",
     "state": {
      "_dom_classes": [],
      "_model_module": "@jupyter-widgets/controls",
      "_model_module_version": "1.5.0",
      "_model_name": "HTMLModel",
      "_view_count": null,
      "_view_module": "@jupyter-widgets/controls",
      "_view_module_version": "1.5.0",
      "_view_name": "HTMLView",
      "description": "",
      "description_tooltip": null,
      "layout": "IPY_MODEL_bd8c0c0bd2314b5c87a69637f279a8e5",
      "placeholder": "​",
      "style": "IPY_MODEL_d955d175bd5a49baae4c37469e73f8f8",
      "value": "Map: 100%"
     }
    },
    "3e7798ee687e42ddbf7a78c8fc73d3d2": {
     "model_module": "@jupyter-widgets/controls",
     "model_module_version": "1.5.0",
     "model_name": "HTMLModel",
     "state": {
      "_dom_classes": [],
      "_model_module": "@jupyter-widgets/controls",
      "_model_module_version": "1.5.0",
      "_model_name": "HTMLModel",
      "_view_count": null,
      "_view_module": "@jupyter-widgets/controls",
      "_view_module_version": "1.5.0",
      "_view_name": "HTMLView",
      "description": "",
      "description_tooltip": null,
      "layout": "IPY_MODEL_3f0cbc15db8340bba9965afa34cba120",
      "placeholder": "​",
      "style": "IPY_MODEL_97add4d91b57487bafbf5f4425ca65a9",
      "value": " 5475/5475 [00:04&lt;00:00, 1215.74 examples/s]"
     }
    },
    "3f0cbc15db8340bba9965afa34cba120": {
     "model_module": "@jupyter-widgets/base",
     "model_module_version": "1.2.0",
     "model_name": "LayoutModel",
     "state": {
      "_model_module": "@jupyter-widgets/base",
      "_model_module_version": "1.2.0",
      "_model_name": "LayoutModel",
      "_view_count": null,
      "_view_module": "@jupyter-widgets/base",
      "_view_module_version": "1.2.0",
      "_view_name": "LayoutView",
      "align_content": null,
      "align_items": null,
      "align_self": null,
      "border": null,
      "bottom": null,
      "display": null,
      "flex": null,
      "flex_flow": null,
      "grid_area": null,
      "grid_auto_columns": null,
      "grid_auto_flow": null,
      "grid_auto_rows": null,
      "grid_column": null,
      "grid_gap": null,
      "grid_row": null,
      "grid_template_areas": null,
      "grid_template_columns": null,
      "grid_template_rows": null,
      "height": null,
      "justify_content": null,
      "justify_items": null,
      "left": null,
      "margin": null,
      "max_height": null,
      "max_width": null,
      "min_height": null,
      "min_width": null,
      "object_fit": null,
      "object_position": null,
      "order": null,
      "overflow": null,
      "overflow_x": null,
      "overflow_y": null,
      "padding": null,
      "right": null,
      "top": null,
      "visibility": null,
      "width": null
     }
    },
    "4bd88d1703e54cd881fd93cb21776a95": {
     "model_module": "@jupyter-widgets/base",
     "model_module_version": "1.2.0",
     "model_name": "LayoutModel",
     "state": {
      "_model_module": "@jupyter-widgets/base",
      "_model_module_version": "1.2.0",
      "_model_name": "LayoutModel",
      "_view_count": null,
      "_view_module": "@jupyter-widgets/base",
      "_view_module_version": "1.2.0",
      "_view_name": "LayoutView",
      "align_content": null,
      "align_items": null,
      "align_self": null,
      "border": null,
      "bottom": null,
      "display": null,
      "flex": null,
      "flex_flow": null,
      "grid_area": null,
      "grid_auto_columns": null,
      "grid_auto_flow": null,
      "grid_auto_rows": null,
      "grid_column": null,
      "grid_gap": null,
      "grid_row": null,
      "grid_template_areas": null,
      "grid_template_columns": null,
      "grid_template_rows": null,
      "height": null,
      "justify_content": null,
      "justify_items": null,
      "left": null,
      "margin": null,
      "max_height": null,
      "max_width": null,
      "min_height": null,
      "min_width": null,
      "object_fit": null,
      "object_position": null,
      "order": null,
      "overflow": null,
      "overflow_x": null,
      "overflow_y": null,
      "padding": null,
      "right": null,
      "top": null,
      "visibility": null,
      "width": null
     }
    },
    "5692d6e103f74c2caa5d259e89858641": {
     "model_module": "@jupyter-widgets/controls",
     "model_module_version": "1.5.0",
     "model_name": "HTMLModel",
     "state": {
      "_dom_classes": [],
      "_model_module": "@jupyter-widgets/controls",
      "_model_module_version": "1.5.0",
      "_model_name": "HTMLModel",
      "_view_count": null,
      "_view_module": "@jupyter-widgets/controls",
      "_view_module_version": "1.5.0",
      "_view_name": "HTMLView",
      "description": "",
      "description_tooltip": null,
      "layout": "IPY_MODEL_6998dd3ab42a40218f67e2d5712ed191",
      "placeholder": "​",
      "style": "IPY_MODEL_b2ac734267f64aefa9ba53369ee3410b",
      "value": "Map: 100%"
     }
    },
    "587bd54cd8664004b7e4222f477e34d0": {
     "model_module": "@jupyter-widgets/controls",
     "model_module_version": "1.5.0",
     "model_name": "ProgressStyleModel",
     "state": {
      "_model_module": "@jupyter-widgets/controls",
      "_model_module_version": "1.5.0",
      "_model_name": "ProgressStyleModel",
      "_view_count": null,
      "_view_module": "@jupyter-widgets/base",
      "_view_module_version": "1.2.0",
      "_view_name": "StyleView",
      "bar_color": null,
      "description_width": ""
     }
    },
    "6998dd3ab42a40218f67e2d5712ed191": {
     "model_module": "@jupyter-widgets/base",
     "model_module_version": "1.2.0",
     "model_name": "LayoutModel",
     "state": {
      "_model_module": "@jupyter-widgets/base",
      "_model_module_version": "1.2.0",
      "_model_name": "LayoutModel",
      "_view_count": null,
      "_view_module": "@jupyter-widgets/base",
      "_view_module_version": "1.2.0",
      "_view_name": "LayoutView",
      "align_content": null,
      "align_items": null,
      "align_self": null,
      "border": null,
      "bottom": null,
      "display": null,
      "flex": null,
      "flex_flow": null,
      "grid_area": null,
      "grid_auto_columns": null,
      "grid_auto_flow": null,
      "grid_auto_rows": null,
      "grid_column": null,
      "grid_gap": null,
      "grid_row": null,
      "grid_template_areas": null,
      "grid_template_columns": null,
      "grid_template_rows": null,
      "height": null,
      "justify_content": null,
      "justify_items": null,
      "left": null,
      "margin": null,
      "max_height": null,
      "max_width": null,
      "min_height": null,
      "min_width": null,
      "object_fit": null,
      "object_position": null,
      "order": null,
      "overflow": null,
      "overflow_x": null,
      "overflow_y": null,
      "padding": null,
      "right": null,
      "top": null,
      "visibility": null,
      "width": null
     }
    },
    "7488340f76914e50af081b8f29f216d6": {
     "model_module": "@jupyter-widgets/controls",
     "model_module_version": "1.5.0",
     "model_name": "DescriptionStyleModel",
     "state": {
      "_model_module": "@jupyter-widgets/controls",
      "_model_module_version": "1.5.0",
      "_model_name": "DescriptionStyleModel",
      "_view_count": null,
      "_view_module": "@jupyter-widgets/base",
      "_view_module_version": "1.2.0",
      "_view_name": "StyleView",
      "description_width": ""
     }
    },
    "80c4c81029bf45c78684ba1a0b468539": {
     "model_module": "@jupyter-widgets/base",
     "model_module_version": "1.2.0",
     "model_name": "LayoutModel",
     "state": {
      "_model_module": "@jupyter-widgets/base",
      "_model_module_version": "1.2.0",
      "_model_name": "LayoutModel",
      "_view_count": null,
      "_view_module": "@jupyter-widgets/base",
      "_view_module_version": "1.2.0",
      "_view_name": "LayoutView",
      "align_content": null,
      "align_items": null,
      "align_self": null,
      "border": null,
      "bottom": null,
      "display": null,
      "flex": null,
      "flex_flow": null,
      "grid_area": null,
      "grid_auto_columns": null,
      "grid_auto_flow": null,
      "grid_auto_rows": null,
      "grid_column": null,
      "grid_gap": null,
      "grid_row": null,
      "grid_template_areas": null,
      "grid_template_columns": null,
      "grid_template_rows": null,
      "height": null,
      "justify_content": null,
      "justify_items": null,
      "left": null,
      "margin": null,
      "max_height": null,
      "max_width": null,
      "min_height": null,
      "min_width": null,
      "object_fit": null,
      "object_position": null,
      "order": null,
      "overflow": null,
      "overflow_x": null,
      "overflow_y": null,
      "padding": null,
      "right": null,
      "top": null,
      "visibility": null,
      "width": null
     }
    },
    "8507953f68474e95a46895367993207a": {
     "model_module": "@jupyter-widgets/controls",
     "model_module_version": "1.5.0",
     "model_name": "HBoxModel",
     "state": {
      "_dom_classes": [],
      "_model_module": "@jupyter-widgets/controls",
      "_model_module_version": "1.5.0",
      "_model_name": "HBoxModel",
      "_view_count": null,
      "_view_module": "@jupyter-widgets/controls",
      "_view_module_version": "1.5.0",
      "_view_name": "HBoxView",
      "box_style": "",
      "children": [
       "IPY_MODEL_1cd0307d28b44ed6a6135af79a23d53e",
       "IPY_MODEL_f49ea69fecf84b2cbb916466ede47ded",
       "IPY_MODEL_3e7798ee687e42ddbf7a78c8fc73d3d2"
      ],
      "layout": "IPY_MODEL_4bd88d1703e54cd881fd93cb21776a95"
     }
    },
    "90905e52290649c28cbda998c29faea5": {
     "model_module": "@jupyter-widgets/base",
     "model_module_version": "1.2.0",
     "model_name": "LayoutModel",
     "state": {
      "_model_module": "@jupyter-widgets/base",
      "_model_module_version": "1.2.0",
      "_model_name": "LayoutModel",
      "_view_count": null,
      "_view_module": "@jupyter-widgets/base",
      "_view_module_version": "1.2.0",
      "_view_name": "LayoutView",
      "align_content": null,
      "align_items": null,
      "align_self": null,
      "border": null,
      "bottom": null,
      "display": null,
      "flex": null,
      "flex_flow": null,
      "grid_area": null,
      "grid_auto_columns": null,
      "grid_auto_flow": null,
      "grid_auto_rows": null,
      "grid_column": null,
      "grid_gap": null,
      "grid_row": null,
      "grid_template_areas": null,
      "grid_template_columns": null,
      "grid_template_rows": null,
      "height": null,
      "justify_content": null,
      "justify_items": null,
      "left": null,
      "margin": null,
      "max_height": null,
      "max_width": null,
      "min_height": null,
      "min_width": null,
      "object_fit": null,
      "object_position": null,
      "order": null,
      "overflow": null,
      "overflow_x": null,
      "overflow_y": null,
      "padding": null,
      "right": null,
      "top": null,
      "visibility": null,
      "width": null
     }
    },
    "97add4d91b57487bafbf5f4425ca65a9": {
     "model_module": "@jupyter-widgets/controls",
     "model_module_version": "1.5.0",
     "model_name": "DescriptionStyleModel",
     "state": {
      "_model_module": "@jupyter-widgets/controls",
      "_model_module_version": "1.5.0",
      "_model_name": "DescriptionStyleModel",
      "_view_count": null,
      "_view_module": "@jupyter-widgets/base",
      "_view_module_version": "1.2.0",
      "_view_name": "StyleView",
      "description_width": ""
     }
    },
    "a81447b55d284a3598a484b481bacc87": {
     "model_module": "@jupyter-widgets/controls",
     "model_module_version": "1.5.0",
     "model_name": "HTMLModel",
     "state": {
      "_dom_classes": [],
      "_model_module": "@jupyter-widgets/controls",
      "_model_module_version": "1.5.0",
      "_model_name": "HTMLModel",
      "_view_count": null,
      "_view_module": "@jupyter-widgets/controls",
      "_view_module_version": "1.5.0",
      "_view_name": "HTMLView",
      "description": "",
      "description_tooltip": null,
      "layout": "IPY_MODEL_80c4c81029bf45c78684ba1a0b468539",
      "placeholder": "​",
      "style": "IPY_MODEL_7488340f76914e50af081b8f29f216d6",
      "value": " 1369/1369 [00:01&lt;00:00, 876.84 examples/s]"
     }
    },
    "b2ac734267f64aefa9ba53369ee3410b": {
     "model_module": "@jupyter-widgets/controls",
     "model_module_version": "1.5.0",
     "model_name": "DescriptionStyleModel",
     "state": {
      "_model_module": "@jupyter-widgets/controls",
      "_model_module_version": "1.5.0",
      "_model_name": "DescriptionStyleModel",
      "_view_count": null,
      "_view_module": "@jupyter-widgets/base",
      "_view_module_version": "1.2.0",
      "_view_name": "StyleView",
      "description_width": ""
     }
    },
    "bd8c0c0bd2314b5c87a69637f279a8e5": {
     "model_module": "@jupyter-widgets/base",
     "model_module_version": "1.2.0",
     "model_name": "LayoutModel",
     "state": {
      "_model_module": "@jupyter-widgets/base",
      "_model_module_version": "1.2.0",
      "_model_name": "LayoutModel",
      "_view_count": null,
      "_view_module": "@jupyter-widgets/base",
      "_view_module_version": "1.2.0",
      "_view_name": "LayoutView",
      "align_content": null,
      "align_items": null,
      "align_self": null,
      "border": null,
      "bottom": null,
      "display": null,
      "flex": null,
      "flex_flow": null,
      "grid_area": null,
      "grid_auto_columns": null,
      "grid_auto_flow": null,
      "grid_auto_rows": null,
      "grid_column": null,
      "grid_gap": null,
      "grid_row": null,
      "grid_template_areas": null,
      "grid_template_columns": null,
      "grid_template_rows": null,
      "height": null,
      "justify_content": null,
      "justify_items": null,
      "left": null,
      "margin": null,
      "max_height": null,
      "max_width": null,
      "min_height": null,
      "min_width": null,
      "object_fit": null,
      "object_position": null,
      "order": null,
      "overflow": null,
      "overflow_x": null,
      "overflow_y": null,
      "padding": null,
      "right": null,
      "top": null,
      "visibility": null,
      "width": null
     }
    },
    "d955d175bd5a49baae4c37469e73f8f8": {
     "model_module": "@jupyter-widgets/controls",
     "model_module_version": "1.5.0",
     "model_name": "DescriptionStyleModel",
     "state": {
      "_model_module": "@jupyter-widgets/controls",
      "_model_module_version": "1.5.0",
      "_model_name": "DescriptionStyleModel",
      "_view_count": null,
      "_view_module": "@jupyter-widgets/base",
      "_view_module_version": "1.2.0",
      "_view_name": "StyleView",
      "description_width": ""
     }
    },
    "f49ea69fecf84b2cbb916466ede47ded": {
     "model_module": "@jupyter-widgets/controls",
     "model_module_version": "1.5.0",
     "model_name": "FloatProgressModel",
     "state": {
      "_dom_classes": [],
      "_model_module": "@jupyter-widgets/controls",
      "_model_module_version": "1.5.0",
      "_model_name": "FloatProgressModel",
      "_view_count": null,
      "_view_module": "@jupyter-widgets/controls",
      "_view_module_version": "1.5.0",
      "_view_name": "ProgressView",
      "bar_style": "success",
      "description": "",
      "description_tooltip": null,
      "layout": "IPY_MODEL_1808f5c52efa4eae8e1fc03d92962417",
      "max": 5475,
      "min": 0,
      "orientation": "horizontal",
      "style": "IPY_MODEL_587bd54cd8664004b7e4222f477e34d0",
      "value": 5475
     }
    },
    "fb6e26b33ac4448f8c2380cce1d30188": {
     "model_module": "@jupyter-widgets/controls",
     "model_module_version": "1.5.0",
     "model_name": "ProgressStyleModel",
     "state": {
      "_model_module": "@jupyter-widgets/controls",
      "_model_module_version": "1.5.0",
      "_model_name": "ProgressStyleModel",
      "_view_count": null,
      "_view_module": "@jupyter-widgets/base",
      "_view_module_version": "1.2.0",
      "_view_name": "StyleView",
      "bar_color": null,
      "description_width": ""
     }
    },
    "fce517842cc645138f3555ee54056b31": {
     "model_module": "@jupyter-widgets/base",
     "model_module_version": "1.2.0",
     "model_name": "LayoutModel",
     "state": {
      "_model_module": "@jupyter-widgets/base",
      "_model_module_version": "1.2.0",
      "_model_name": "LayoutModel",
      "_view_count": null,
      "_view_module": "@jupyter-widgets/base",
      "_view_module_version": "1.2.0",
      "_view_name": "LayoutView",
      "align_content": null,
      "align_items": null,
      "align_self": null,
      "border": null,
      "bottom": null,
      "display": null,
      "flex": null,
      "flex_flow": null,
      "grid_area": null,
      "grid_auto_columns": null,
      "grid_auto_flow": null,
      "grid_auto_rows": null,
      "grid_column": null,
      "grid_gap": null,
      "grid_row": null,
      "grid_template_areas": null,
      "grid_template_columns": null,
      "grid_template_rows": null,
      "height": null,
      "justify_content": null,
      "justify_items": null,
      "left": null,
      "margin": null,
      "max_height": null,
      "max_width": null,
      "min_height": null,
      "min_width": null,
      "object_fit": null,
      "object_position": null,
      "order": null,
      "overflow": null,
      "overflow_x": null,
      "overflow_y": null,
      "padding": null,
      "right": null,
      "top": null,
      "visibility": null,
      "width": null
     }
    },
    "fedb31c065e2417e832e93fc7dbe9a08": {
     "model_module": "@jupyter-widgets/controls",
     "model_module_version": "1.5.0",
     "model_name": "FloatProgressModel",
     "state": {
      "_dom_classes": [],
      "_model_module": "@jupyter-widgets/controls",
      "_model_module_version": "1.5.0",
      "_model_name": "FloatProgressModel",
      "_view_count": null,
      "_view_module": "@jupyter-widgets/controls",
      "_view_module_version": "1.5.0",
      "_view_name": "ProgressView",
      "bar_style": "success",
      "description": "",
      "description_tooltip": null,
      "layout": "IPY_MODEL_90905e52290649c28cbda998c29faea5",
      "max": 1369,
      "min": 0,
      "orientation": "horizontal",
      "style": "IPY_MODEL_fb6e26b33ac4448f8c2380cce1d30188",
      "value": 1369
     }
    },
    "ff8faa1b05024c249a57d1980434ac52": {
     "model_module": "@jupyter-widgets/controls",
     "model_module_version": "1.5.0",
     "model_name": "HBoxModel",
     "state": {
      "_dom_classes": [],
      "_model_module": "@jupyter-widgets/controls",
      "_model_module_version": "1.5.0",
      "_model_name": "HBoxModel",
      "_view_count": null,
      "_view_module": "@jupyter-widgets/controls",
      "_view_module_version": "1.5.0",
      "_view_name": "HBoxView",
      "box_style": "",
      "children": [
       "IPY_MODEL_5692d6e103f74c2caa5d259e89858641",
       "IPY_MODEL_fedb31c065e2417e832e93fc7dbe9a08",
       "IPY_MODEL_a81447b55d284a3598a484b481bacc87"
      ],
      "layout": "IPY_MODEL_fce517842cc645138f3555ee54056b31"
     }
    }
   }
  }
 },
 "nbformat": 4,
 "nbformat_minor": 1
}
